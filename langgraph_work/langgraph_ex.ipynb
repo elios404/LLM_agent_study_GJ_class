{
 "cells": [
  {
   "cell_type": "markdown",
   "id": "ef31d8fc",
   "metadata": {},
   "source": [
    "# 내 코드"
   ]
  },
  {
   "cell_type": "code",
   "execution_count": 1,
   "id": "59ad3d19",
   "metadata": {},
   "outputs": [
    {
     "data": {
      "text/plain": [
       "True"
      ]
     },
     "execution_count": 1,
     "metadata": {},
     "output_type": "execute_result"
    }
   ],
   "source": [
    "from dotenv import load_dotenv\n",
    "\n",
    "load_dotenv()"
   ]
  },
  {
   "cell_type": "code",
   "execution_count": 2,
   "id": "60dc50c8",
   "metadata": {},
   "outputs": [],
   "source": [
    "from typing import TypedDict\n",
    "\n",
    "class GreetState(TypedDict):\n",
    "    name : str\n",
    "    greeting : str"
   ]
  },
  {
   "cell_type": "code",
   "execution_count": 4,
   "id": "426a4fd8",
   "metadata": {},
   "outputs": [],
   "source": [
    "def normalize_name(state : GreetState) -> GreetState:\n",
    "    name = state['name']\n",
    "    name = name.strip()\n",
    "    name = name[0].upper() + name[1:].lower()\n",
    "\n",
    "    return {'name' : name}"
   ]
  },
  {
   "cell_type": "code",
   "execution_count": 5,
   "id": "556d46d4",
   "metadata": {},
   "outputs": [],
   "source": [
    "import random\n",
    "\n",
    "def making_greeting(state : GreetState) -> GreetState:\n",
    "    name = state['name']\n",
    "    greeting_sentenses = ['Hello ', 'Nice to meet you, ', \"It's glad to meet you, \"]\n",
    "    greeting_sentense = random.choice(greeting_sentenses)\n",
    "\n",
    "    greeting = greeting_sentense + name + \"!\"\n",
    "\n",
    "    return {\"greeting\" : greeting}"
   ]
  },
  {
   "cell_type": "code",
   "execution_count": 6,
   "id": "efca48ff",
   "metadata": {},
   "outputs": [],
   "source": [
    "from langgraph.graph import StateGraph, START, END\n",
    "\n",
    "builder = StateGraph(GreetState)\n",
    "\n",
    "builder.add_node(\"normalize_name\", normalize_name)\n",
    "builder.add_node(\"making_greeting\", making_greeting)\n",
    "\n",
    "builder.add_edge(START, \"normalize_name\")\n",
    "builder.add_edge(\"normalize_name\", \"making_greeting\")\n",
    "builder.add_edge(\"making_greeting\", END)\n",
    "\n",
    "graph = builder.compile()"
   ]
  },
  {
   "cell_type": "code",
   "execution_count": 7,
   "id": "791a4e9f",
   "metadata": {},
   "outputs": [
    {
     "data": {
      "image/png": "[encoded data removed]",
      "text/plain": [
       "<IPython.core.display.Image object>"
      ]
     },
     "metadata": {},
     "output_type": "display_data"
    }
   ],
   "source": [
    "from IPython.display import Image, display\n",
    "\n",
    "display(Image(graph.get_graph().draw_mermaid_png()))"
   ]
  },
  {
   "cell_type": "code",
   "execution_count": 9,
   "id": "416afd0f",
   "metadata": {},
   "outputs": [
    {
     "name": "stdout",
     "output_type": "stream",
     "text": [
      "\n",
      " --- 결과---\n",
      "\n",
      " 이름 :  Cheon sejun\n",
      "\n",
      " 인사 :  It's glad to meet you, Cheon sejun!\n",
      "========================================\n",
      "\n",
      "\n",
      " --- 결과---\n",
      "\n",
      " 이름 :  Cheon sejun\n",
      "\n",
      " 인사 :  Nice to meet you, Cheon sejun!\n",
      "========================================\n",
      "\n"
     ]
    }
   ],
   "source": [
    "def print_result(result: GreetState):\n",
    "    print(\"\\n --- 결과---\")\n",
    "    print(\"\\n 이름 : \", result[\"name\"])\n",
    "    print(\"\\n 인사 : \", result[\"greeting\"])\n",
    "    print(\"=\"*40)\n",
    "\n",
    "inputs = {\"name\": \"   cHeOn seJun  \"} #invoke 호출 시에 최소한의 키가 있어야 한다.\n",
    "\n",
    "for _ in range(2):\n",
    "    result = graph.invoke(inputs)\n",
    "    print_result(result)\n",
    "    print()"
   ]
  },
  {
   "cell_type": "markdown",
   "id": "b246f2c9",
   "metadata": {},
   "source": [
    "# 교수님 작성 코드"
   ]
  },
  {
   "cell_type": "code",
   "execution_count": 10,
   "id": "51db7125",
   "metadata": {},
   "outputs": [],
   "source": [
    "from typing import TypedDict\n",
    "from langgraph.graph import StateGraph, START, END"
   ]
  },
  {
   "cell_type": "code",
   "execution_count": 11,
   "id": "029dc1d4",
   "metadata": {},
   "outputs": [],
   "source": [
    "class HelloState(TypedDict):\n",
    "    name : str\n",
    "    greeting : str"
   ]
  },
  {
   "cell_type": "code",
   "execution_count": 12,
   "id": "1b07d655",
   "metadata": {},
   "outputs": [],
   "source": [
    "def normalize_name(state : HelloState) -> HelloState:\n",
    "    raw = state.get(\"name\",\"\")\n",
    "    normalized = \" \".join(raw.split()).title() #좌우 공백 제거, 첫 문자 대문자.\n",
    "\n",
    "    return {'name' : normalized}\n",
    "\n",
    "def making_greeting(state : HelloState) -> HelloState:\n",
    "    name = state.get(\"name\",\"\")\n",
    "\n",
    "    return {\"greeting\" : f\"Hello, {name}!\"}"
   ]
  },
  {
   "cell_type": "code",
   "execution_count": 13,
   "id": "b0118cf9",
   "metadata": {},
   "outputs": [],
   "source": [
    "builder = StateGraph(HelloState)\n",
    "\n",
    "builder.add_node(\"normalize_name\", normalize_name)\n",
    "builder.add_node(\"making_greeting\", making_greeting)\n",
    "\n",
    "builder.add_edge(START, \"normalize_name\")\n",
    "builder.add_edge(\"normalize_name\", \"making_greeting\")\n",
    "builder.add_edge(\"making_greeting\", END)\n",
    "\n",
    "graph = builder.compile()"
   ]
  },
  {
   "cell_type": "code",
   "execution_count": 14,
   "id": "e1a6a48e",
   "metadata": {},
   "outputs": [
    {
     "name": "stdout",
     "output_type": "stream",
     "text": [
      "\n",
      " --- 결과---\n",
      "\n",
      " 이름 :  Cheon Sejun\n",
      "\n",
      " 인사 :  Hello, Cheon Sejun!\n",
      "========================================\n",
      "\n",
      "\n",
      " --- 결과---\n",
      "\n",
      " 이름 :  Cheon Sejun\n",
      "\n",
      " 인사 :  Hello, Cheon Sejun!\n",
      "========================================\n",
      "\n"
     ]
    }
   ],
   "source": [
    "def print_result(result: GreetState):\n",
    "    print(\"\\n --- 결과---\")\n",
    "    print(\"\\n 이름 : \", result[\"name\"])\n",
    "    print(\"\\n 인사 : \", result[\"greeting\"])\n",
    "    print(\"=\"*40)\n",
    "\n",
    "inputs = {\"name\": \"   cHeOn seJun  \"} #invoke 호출 시에 최소한의 키가 있어야 한다.\n",
    "\n",
    "for _ in range(2):\n",
    "    result = graph.invoke(inputs)\n",
    "    print_result(result)\n",
    "    print()"
   ]
  },
  {
   "cell_type": "code",
   "execution_count": null,
   "id": "adea8dd4",
   "metadata": {},
   "outputs": [],
   "source": []
  }
 ],
 "metadata": {
  "kernelspec": {
   "display_name": "langgraph-work-GT3FxxES-py3.11",
   "language": "python",
   "name": "python3"
  },
  "language_info": {
   "codemirror_mode": {
    "name": "ipython",
    "version": 3
   },
   "file_extension": ".py",
   "mimetype": "text/x-python",
   "name": "python",
   "nbconvert_exporter": "python",
   "pygments_lexer": "ipython3",
   "version": "3.11.9"
  }
 },
 "nbformat": 4,
 "nbformat_minor": 5
}
