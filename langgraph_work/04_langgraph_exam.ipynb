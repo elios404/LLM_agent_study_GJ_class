{
 "cells": [
  {
   "cell_type": "code",
   "execution_count": 1,
   "id": "a677df83",
   "metadata": {},
   "outputs": [
    {
     "data": {
      "text/plain": [
       "True"
      ]
     },
     "execution_count": 1,
     "metadata": {},
     "output_type": "execute_result"
    }
   ],
   "source": [
    "from dotenv import load_dotenv\n",
    "\n",
    "load_dotenv()"
   ]
  },
  {
   "cell_type": "code",
   "execution_count": 4,
   "id": "0e098563",
   "metadata": {},
   "outputs": [
    {
     "name": "stderr",
     "output_type": "stream",
     "text": [
      "Failed to send telemetry event ClientStartEvent: capture() takes 1 positional argument but 3 were given\n",
      "Failed to send telemetry event ClientCreateCollectionEvent: capture() takes 1 positional argument but 3 were given\n",
      "Failed to send telemetry event ClientStartEvent: capture() takes 1 positional argument but 3 were given\n",
      "Failed to send telemetry event ClientCreateCollectionEvent: capture() takes 1 positional argument but 3 were given\n"
     ]
    }
   ],
   "source": [
    "from langchain_chroma import Chroma\n",
    "from langchain_openai import OpenAIEmbeddings\n",
    "\n",
    "embeddings_model = OpenAIEmbeddings(model=\"text-embedding-3-small\")\n",
    "\n",
    "menu_db = Chroma(\n",
    "    embedding_function=embeddings_model,   \n",
    "    collection_name=\"restaurant_menu\",\n",
    "    persist_directory=\"./chroma_db\",\n",
    ")\n",
    "\n",
    "menu_retriever = menu_db.as_retriever(\n",
    "    search_kwargs={'k':2}\n",
    ")\n",
    "\n",
    "wine_db = Chroma(\n",
    "   embedding_function=embeddings_model,   \n",
    "   collection_name=\"restaurant_wine\",\n",
    "   persist_directory=\"./chroma_db\",\n",
    ")\n",
    "\n",
    "wine_retriever = wine_db.as_retriever(\n",
    "    search_kwargs={'k':2}\n",
    ")\n"
   ]
  },
  {
   "cell_type": "code",
   "execution_count": null,
   "id": "e1f512ee",
   "metadata": {},
   "outputs": [
    {
     "name": "stdout",
     "output_type": "stream",
     "text": [
      "검색 문서 수 : 2\n",
      "문서 내용  : 1. 시그니처 스테이크\n",
      "   • 가격: ₩35,000\n",
      "   • 주요 식재료: 최상급 한우 등심, 로즈메리 감자, 그릴드 아스파라거스\n",
      "   • 설명: 셰프의 특제 시그니처 메뉴로, 21일간 건조 숙성한 최상급 한우 등심을 사용합니다. 미디엄 레어로 조리하여 육즙을 최대한 보존하며, 로즈메리 향의 감자와 아삭한 그릴드 아스파라거스가 곁들여집니다. 레드와인 소스와 함께 제공되어 풍부한 맛을 더합니다.\n",
      "문서 내용  : 8. 안심 스테이크 샐러드\n",
      "   • 가격: ₩26,000\n",
      "   • 주요 식재료: 소고기 안심, 루꼴라, 체리 토마토, 발사믹 글레이즈\n",
      "   • 설명: 부드러운 안심 스테이크를 얇게 슬라이스하여 신선한 루꼴라 위에 올린 메인 요리 샐러드입니다. 체리 토마토와 파마산 치즈 플레이크로 풍미를 더하고, 발사믹 글레이즈로 마무리하여 고기의 풍미를 한층 끌어올렸습니다.\n",
      "검색 문서 수 : 2\n",
      "문서 내용  : 9. 샤토 디켐 2015\n",
      "   • 가격: ₩800,000 (375ml)\n",
      "   • 주요 품종: 세미용, 소비뇽 블랑\n",
      "   • 설명: 보르도 소테른 지역의 legendary 디저트 와인입니다. 아프리콧, 복숭아, 파인애플의 농축된 과실향과 함께 꿀, 사프란, 바닐라의 복잡한 향이 어우러집니다. 놀라운 농축도와 균형 잡힌 산도, 긴 여운이 특징이며, 100년 이상 숙성 가능한 와인으로 알려져 있습니다.\n",
      "문서 내용  : 10. 그랜지 2016\n",
      "    • 가격: ₩950,000\n",
      "    • 주요 품종: 시라\n",
      "    • 설명: 호주의 대표적인 아이콘 와인입니다. 블랙베리, 자두, 블랙 올리브의 강렬한 과실향과 함께 유칼립투스, 초콜릿, 가죽의 복잡한 향이 어우러집니다. 풀바디이며 강렬한 타닌과 산도가 특징적입니다. 놀라운 집중도와 깊이, 긴 여운을 자랑하며, 수십 년의 숙성 잠재력을 가집니다.\n"
     ]
    }
   ],
   "source": [
    "menu_query = \"시그니처 스테이크의 가격과 특징은 무엇인가요?\"\n",
    "\n",
    "menu_docs = menu_retriever.invoke(menu_query)\n",
    "\n",
    "print(f\"검색 문서 수 : {len(menu_docs)}\")\n",
    "for doc in menu_docs:\n",
    "    print(f\"문서 내용  : {doc.page_content}\")\n",
    "\n",
    "wine_query = \"스테이크와 어울리는 와인을 추천해 주세요.\"\n",
    "\n",
    "wine_docs = wine_retriever.invoke(wine_query)\n",
    "\n",
    "print(f\"검색 문서 수 : {len(wine_docs)}\")\n",
    "for doc in wine_docs:\n",
    "    print(f\"문서 내용  : {doc.page_content}\")"
   ]
  },
  {
   "cell_type": "code",
   "execution_count": null,
   "id": "5ba228ce",
   "metadata": {},
   "outputs": [],
   "source": [
    "from langgraph.graph import MessagesState\n",
    "from typing import List\n",
    "from langchain_core.documents import Document\n",
    "\n",
    "# class GraphState(MessagesState): #MessagesState를 넣어주는 것으로\n",
    "    \n",
    "#     # messages 키를 기본적으로 제공 -> 서로 대화했던 내용을 유지하는 필드\n",
    "\n",
    "#     documents : List[Document]\n",
    "#     grade : float # 답변의 수준을 저장하는 필드, 일정 성능 이상의 답변을 원함.\n",
    "#     num_generation : int # 높은 수준의 답변을 얻기 위해, 최대 몇 번의 반복을 돌릴 것인지\n",
    "\n",
    "class GraphState(MessagesState):\n",
    "    # messages 키를 기본적으로 제공\n",
    "    last_user_message: str\n",
    "    documents: List[Document]\n",
    "    grade: float\n",
    "    num_generation: int"
   ]
  },
  {
   "cell_type": "code",
   "execution_count": 9,
   "id": "7a3b978a",
   "metadata": {},
   "outputs": [
    {
     "name": "stdout",
     "output_type": "stream",
     "text": [
      "제공된 메뉴 중에서는 채식주의자를 위한 옵션이 없습니다. 그러나 일반적으로 채식주의자에게 적합한 메뉴를 고려할 때, 신선한 채소, 과일, 곡물 및 식물성 단백질을 포함한 요리를 선택하는 것이 좋습니다.\n",
      "\n",
      "채식주의자를 위한 메뉴를 원하신다면, 아보카도와 신선한 채소를 사용한 샐러드나, 채소 스튜, 또는 다양한 곡물과 채소로 만든 그레인 보울 같은 요리를 추천드립니다. 식당에 문의하여 채식 옵션이 있는지 확인해 보시는 것도 좋은 방법입니다.\n"
     ]
    }
   ],
   "source": [
    "from langchain_openai import ChatOpenAI\n",
    "from langchain_core.prompts import ChatPromptTemplate\n",
    "from langchain_core.output_parsers import StrOutputParser\n",
    "from langchain_core.runnables import RunnablePassthrough\n",
    "\n",
    "# LLM 모델 \n",
    "llm = ChatOpenAI(model=\"gpt-4o-mini\")\n",
    "\n",
    "# RAG 체인 구성\n",
    "def format_docs(docs):\n",
    "    return \"\\n\\n\".join(doc.page_content for doc in docs)\n",
    "\n",
    "system = \"\"\"\n",
    "You are a helpful assistant. Use the following context to answer the user's question:\n",
    "\n",
    "[Context]\n",
    "{context}\n",
    "\"\"\"\n",
    "\n",
    "prompt = ChatPromptTemplate.from_messages([\n",
    "    (\"system\", system),\n",
    "    (\"human\", \"{question}\")\n",
    "])\n",
    "\n",
    "# 검색기 정의\n",
    "retriever = menu_db.as_retriever(\n",
    "    search_kwargs={\"k\": 2}\n",
    ")\n",
    "\n",
    "# RAG 체인 구성\n",
    "rag_chain = (\n",
    "    {\"context\": retriever | format_docs, \"question\": RunnablePassthrough()}\n",
    "    | prompt\n",
    "    | llm\n",
    "    | StrOutputParser()\n",
    ")\n",
    "\n",
    "# RAG 체인 실행\n",
    "query = \"채식주의자를 위한 메뉴를 추천해주세요.\"\n",
    "response = rag_chain.invoke(query)\n",
    "\n",
    "# 답변 출력\n",
    "print(response)"
   ]
  },
  {
   "cell_type": "code",
   "execution_count": null,
   "id": "ca7bfd2c",
   "metadata": {},
   "outputs": [],
   "source": [
    "from langchain_core.messages import AIMessage, HumanMessage\n",
    "\n",
    "# RAG 수행 함수 정의\n",
    "def retrieve_and_respond(state: GraphState):\n",
    "    # last_human_message = state['messages'][-1] #현재 정확히 어떤 것이 들어가있는가?\n",
    "    \n",
    "    if \"last_user_message\" not in state:\n",
    "        last_human_message = state['messages'][-1]\n",
    "        query = last_human_message.content\n",
    "        state[\"last_user_message\"] = query\n",
    "    else:\n",
    "        query = state[\"last_user_message\"]\n",
    "\n",
    "    # HumanMessage 객체의 content 속성에 접근\n",
    "    query = last_human_message.content\n",
    "    \n",
    "    # 문서 검색\n",
    "    retrieved_docs = retriever.invoke(query)\n",
    "    \n",
    "    # 응답 생성\n",
    "    response = rag_chain.invoke(query)\n",
    "    \n",
    "    # 검색된 문서와 응답을 상태에 저장\n",
    "    return {\n",
    "        \"messages\": [AIMessage(content=response)],\n",
    "        \"documents\": retrieved_docs\n",
    "    }"
   ]
  },
  {
   "cell_type": "code",
   "execution_count": null,
   "id": "0eb6e2e1",
   "metadata": {},
   "outputs": [],
   "source": [
    "from pydantic import BaseModel, Field\n",
    "\n",
    "class GradeResponse(BaseModel):\n",
    "    \"A score for answers\"\n",
    "    score: float = Field(..., ge=0, le=1, description=\"A score from 0 to 1, where 1 is perfect\")\n",
    "    explanation: str = Field(..., description=\"An explanation for the given score\")\n",
    "\n",
    "# 답변 품질 평가 함수\n",
    "def grade_answer(state: GraphState):\n",
    "    messages = state['messages']\n",
    "    question = messages[-2].content # 나의 질문\n",
    "    answer = messages[-1].content # 질문에 대한 AI 의 대답\n",
    "    context = format_docs(state['documents'])\n",
    "\n",
    "    # grading_system = \"\"\"You are an expert grader. \n",
    "    # Grade the following answer based on its relevance and accuracy to the question, considering the given context. \n",
    "    # Provide a score from 0 to 1, where 1 is perfect, along with an explanation.\"\"\"\n",
    "\n",
    "    grading_system = \"\"\" \n",
    "    당신은 전문가 채점자입니다. 당신의 임무는 두 가지를 모두 바탕으로 답을 **엄격히** 평가하는 것입니다:\n",
    "    1. 질문과의 관련성\n",
    "    2. 제공된 컨텍스트의 사용\n",
    "\n",
    "    답변이 문맥을 적절히 활용하지 못하거나 문맥이 질문과 무관한 경우, 답변이 정중하거나 합리적으로 보일지라도 **낮은 점수**를 주세요. \n",
    "    question 내용에서 context에 없는 메뉴를 찾으면 특히 낮은 점수를 주세요.\n",
    "    answer 내용에 \"정보가 없습니다\" 내용이 있으면 더 낮은 점수를 주세요.\n",
    "    답변이 반복적이거나 관련 응답을 여러 번 제공하지 않는 경우 **점수를 벌점**해야 합니다.\n",
    "    답변이 \"맥락은 관련이 없다\"고 인정하더라도, 제공된 문맥을 사용하지 않았기 때문에 **낮은 점수** (≤ 0.3)를 주어야 합니다.\n",
    "\n",
    "    문맥이 직접적으로 뒷받침하지 않는 한 정중한 거절이나 반복적인 답변에 대해 높은 점수를 주지 마세요.\n",
    "\n",
    "    다음 규칙을 사용하세요:\n",
    "    - 문맥을 이용한 완벽한 답변: 1.0\n",
    "    - 부분적으로 올바르지만 모호한 문맥 사용: 0.5–   - 답변이 컨텍스트를 사용하지 않거나 전혀 사용할 수 없습니다: 0.0–0.3\n",
    "    \"\"\"\n",
    "\n",
    "    grading_prompt = ChatPromptTemplate.from_messages([\n",
    "        (\"system\", grading_system),\n",
    "        (\"human\", \"[Question]\\n{question}\\n\\n[Context]\\n{context}\\n\\n[Answer]\\n{answer}\\n\\n[Grade]\\n\")\n",
    "    ])\n",
    "    \n",
    "    grading_chain = grading_prompt | llm.with_structured_output(schema=GradeResponse) #GradeResponse 형태로 리턴 받기 위해서\n",
    "    \n",
    "    grade_response = grading_chain.invoke({\n",
    "        \"question\": question,\n",
    "        \"context\": context,\n",
    "        \"answer\": answer\n",
    "    })\n",
    "\n",
    "    # 답변 생성 횟수를 증가 \n",
    "    num_generation = state.get('num_generation', 0)\n",
    "    num_generation += 1\n",
    "    \n",
    "    return {\"grade\": grade_response.score, \"num_generation\": num_generation}"
   ]
  },
  {
   "cell_type": "code",
   "execution_count": 15,
   "id": "415765ef",
   "metadata": {},
   "outputs": [],
   "source": [
    "from typing import Literal\n",
    "\n",
    "\n",
    "def should_retry(state: GraphState) -> Literal[\"retrieve_and_respond\", \"generate\"]:\n",
    "    print(\"----GRADTING---\")\n",
    "    print(\"Grade Score: \", state[\"grade\"])\n",
    "\n",
    "    # 답변 생성 횟수가 3회 이상이면 \"generate\"를 반환\n",
    "    if state[\"num_generation\"] > 2: \n",
    "        return \"generate\"    \n",
    "    \n",
    "    # 답변 품질 평가점수가 0.7 미만이면 RAG 체인을 다시 실행 \n",
    "    if state[\"grade\"] < 0.7:  \n",
    "        return \"retrieve_and_respond\"\n",
    "    else:\n",
    "        return \"generate\""
   ]
  },
  {
   "cell_type": "code",
   "execution_count": 16,
   "id": "0d57503a",
   "metadata": {},
   "outputs": [
    {
     "data": {
      "image/png": "[encoded data removed]",
      "text/plain": [
       "<IPython.core.display.Image object>"
      ]
     },
     "metadata": {},
     "output_type": "display_data"
    }
   ],
   "source": [
    "from typing import TypedDict\n",
    "from langgraph.graph import StateGraph, START, END\n",
    "from IPython.display import Image, display\n",
    "\n",
    "# 그래프 설정\n",
    "builder = StateGraph(GraphState)\n",
    "builder.add_node(\"retrieve_and_respond\", retrieve_and_respond)\n",
    "builder.add_node(\"grade_answer\", grade_answer)\n",
    "\n",
    "builder.add_edge(START, \"retrieve_and_respond\")\n",
    "builder.add_edge(\"retrieve_and_respond\", \"grade_answer\")\n",
    "builder.add_conditional_edges(\n",
    "    \"grade_answer\",\n",
    "    should_retry,\n",
    "    {\n",
    "        \"retrieve_and_respond\": \"retrieve_and_respond\",\n",
    "        \"generate\": END\n",
    "    }\n",
    ")\n",
    "\n",
    "# 그래프 컴파일\n",
    "graph = builder.compile()\n",
    "\n",
    "# 그래프 시각화\n",
    "display(Image(graph.get_graph().draw_mermaid_png()))"
   ]
  },
  {
   "cell_type": "code",
   "execution_count": 23,
   "id": "82b344fd",
   "metadata": {},
   "outputs": [
    {
     "name": "stdout",
     "output_type": "stream",
     "text": [
      "----GRADTING---\n",
      "Grade Score:  1.0\n",
      "최종 상태: [HumanMessage(content='스테이크의 가격은 얼마고 어떤 특징이 있니?', additional_kwargs={}, response_metadata={}, id='495125a6-b97b-4a2b-8c2b-b78e93fbcd64'), AIMessage(content='안심 스테이크 샐러드의 가격은 ₩26,000입니다. 이 요리는 부드러운 안심 스테이크를 얇게 슬라이스하여 신선한 루꼴라 위에 올린 메인 요리 샐러드입니다. 체리 토마토와 파마산 치즈 플레이크로 풍미를 더하고, 발사믹 글레이즈로 마무리하여 고기의 풍미를 한층 끌어올렸습니다.', additional_kwargs={}, response_metadata={}, id='501b91f4-5598-49a7-8ad3-a1eaef69d953')]\n"
     ]
    }
   ],
   "source": [
    "from pprint import pprint\n",
    "\n",
    "# 초기 상태\n",
    "initial_state = {\n",
    "    \"messages\": [HumanMessage(content=\"스테이크의 가격은 얼마고 어떤 특징이 있니?\")],\n",
    "}\n",
    "\n",
    "# 그래프 실행 \n",
    "final_state = graph.invoke(initial_state)\n",
    "\n",
    "# 최종 상태 출력\n",
    "print(\"최종 상태:\", final_state['messages'])"
   ]
  },
  {
   "cell_type": "code",
   "execution_count": null,
   "id": "840b991c",
   "metadata": {},
   "outputs": [],
   "source": []
  }
 ],
 "metadata": {
  "kernelspec": {
   "display_name": "langgraph-work-GT3FxxES-py3.11",
   "language": "python",
   "name": "python3"
  },
  "language_info": {
   "codemirror_mode": {
    "name": "ipython",
    "version": 3
   },
   "file_extension": ".py",
   "mimetype": "text/x-python",
   "name": "python",
   "nbconvert_exporter": "python",
   "pygments_lexer": "ipython3",
   "version": "3.11.9"
  }
 },
 "nbformat": 4,
 "nbformat_minor": 5
}
