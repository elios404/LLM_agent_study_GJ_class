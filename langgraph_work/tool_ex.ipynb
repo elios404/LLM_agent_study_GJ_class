{
 "cells": [
  {
   "cell_type": "markdown",
   "id": "624e2523",
   "metadata": {},
   "source": [
    "# 내 코드"
   ]
  },
  {
   "cell_type": "code",
   "execution_count": 19,
   "id": "dde2048e",
   "metadata": {},
   "outputs": [
    {
     "data": {
      "text/plain": [
       "True"
      ]
     },
     "execution_count": 19,
     "metadata": {},
     "output_type": "execute_result"
    }
   ],
   "source": [
    "from dotenv import load_dotenv\n",
    "import os\n",
    "\n",
    "load_dotenv()"
   ]
  },
  {
   "cell_type": "code",
   "execution_count": 20,
   "id": "b8af17f8",
   "metadata": {},
   "outputs": [],
   "source": [
    "from langchain_core.documents import Document\n",
    "from langchain.tools import tool\n",
    "from langchain_openai import ChatOpenAI #bind_tools를 위해서 pdf와 달리 이렇게 수정해 주어야 함.\n",
    "\n",
    "from langchain_core.prompts import ChatPromptTemplate\n",
    "from langchain_core.runnables import RunnableConfig, chain\n",
    "\n",
    "from langchain_chroma import Chroma\n",
    "from langchain_openai import OpenAIEmbeddings"
   ]
  },
  {
   "cell_type": "code",
   "execution_count": 13,
   "id": "4f89a8ff",
   "metadata": {},
   "outputs": [],
   "source": [
    "animal_facts = {\n",
    "    \"강아지\" : \"강아지는 인간과 가장 친한 반려동물 중 하나입니다. 충성심이 강하고 활발합니다.\",\n",
    "    \"고양이\" : \"고양이는 독립적인 성격을 가진 반려동물로, 깨긋하고 조용한 성격을 가졌습니다.\",\n",
    "    \"코끼리\" : \"코끼리는 육상 동물 중 가장 큰 동물로, 매우 높은 지능과 사회성을 지닙니다.\",\n",
    "    \"기린\" : \"기린은 목이 매우 길며, 주로 아프리카 사바나에서 서식합니다.\"\n",
    "}"
   ]
  },
  {
   "cell_type": "code",
   "execution_count": 14,
   "id": "f56d5c07",
   "metadata": {},
   "outputs": [
    {
     "name": "stdout",
     "output_type": "stream",
     "text": [
      "[Document(metadata={}, page_content='강아지강아지는 인간과 가장 친한 반려동물 중 하나입니다. 충성심이 강하고 활발합니다.'), Document(metadata={}, page_content='고양이고양이는 독립적인 성격을 가진 반려동물로, 깨긋하고 조용한 성격을 가졌습니다.'), Document(metadata={}, page_content='코끼리코끼리는 육상 동물 중 가장 큰 동물로, 매우 높은 지능과 사회성을 지닙니다.'), Document(metadata={}, page_content='기린기린은 목이 매우 길며, 주로 아프리카 사바나에서 서식합니다.')]\n"
     ]
    }
   ],
   "source": [
    "animal_docs = []\n",
    "\n",
    "for key, value in animal_facts.items():\n",
    "    animal_doc = Document(\n",
    "        page_content= key + value,\n",
    "    )\n",
    "    animal_docs.append(animal_doc)\n",
    "\n",
    "print(animal_docs)\n"
   ]
  },
  {
   "cell_type": "code",
   "execution_count": null,
   "id": "aa9047b2",
   "metadata": {},
   "outputs": [
    {
     "name": "stderr",
     "output_type": "stream",
     "text": [
      "Failed to send telemetry event ClientStartEvent: capture() takes 1 positional argument but 3 were given\n",
      "Failed to send telemetry event ClientCreateCollectionEvent: capture() takes 1 positional argument but 3 were given\n"
     ]
    }
   ],
   "source": [
    "embeddings_model = OpenAIEmbeddings(\n",
    "    model = \"text-embedding-3-small\"\n",
    ")\n",
    "\n",
    "animal_db = Chroma.from_documents(\n",
    "    documents=animal_docs,\n",
    "    embedding=embeddings_model,\n",
    "    collection_name=\"animal_facts\",\n",
    "    persist_directory=\"./chroma_db\"\n",
    ")"
   ]
  },
  {
   "cell_type": "code",
   "execution_count": 21,
   "id": "95da5b32",
   "metadata": {},
   "outputs": [
    {
     "name": "stdout",
     "output_type": "stream",
     "text": [
      "[Document(metadata={}, page_content='강아지강아지는 인간과 가장 친한 반려동물 중 하나입니다. 충성심이 강하고 활발합니다.')]\n"
     ]
    }
   ],
   "source": [
    "animal_retriever = animal_db.as_retriever(\n",
    "    search_kwargs={\"k\": 1},\n",
    ")\n",
    "\n",
    "query = \"강아지는 어떤 동물이야?\"\n",
    "doc = animal_retriever.invoke(query)\n",
    "print(doc)"
   ]
  },
  {
   "cell_type": "code",
   "execution_count": 22,
   "id": "7f7212a9",
   "metadata": {},
   "outputs": [],
   "source": [
    "@tool\n",
    "def search_animal(query : str) -> list[Document]:\n",
    "    \"\"\"\n",
    "    이름에 해당한느 동물에 대한 정보와 설명을 간단하게 반환합니다.\n",
    "    \"\"\"\n",
    "\n",
    "    docs = animal_retriever.invoke(query)\n",
    "    if len(docs) == 1:\n",
    "        return docs\n",
    "    \n",
    "    return [Document(page_content=\"해당 동물의 정보를 찾을 수 없습니다.\")]"
   ]
  },
  {
   "cell_type": "code",
   "execution_count": 23,
   "id": "4708b228",
   "metadata": {},
   "outputs": [],
   "source": [
    "prompt = ChatPromptTemplate([\n",
    "    (\"system\", f\"You are helpful AI assistant which explains about the animal.\"),\n",
    "    (\"human\", \"{user_input}\"),\n",
    "    (\"placeholder\", \"{messages}\"),\n",
    "])\n",
    "\n",
    "llm = ChatOpenAI(model=\"gpt-4o-mini\")\n",
    "llm_with_tools = llm.bind_tools(tools=[search_animal])\n",
    "llm_chain = prompt | llm_with_tools"
   ]
  },
  {
   "cell_type": "code",
   "execution_count": 24,
   "id": "2f20dc83",
   "metadata": {},
   "outputs": [
    {
     "name": "stdout",
     "output_type": "stream",
     "text": [
      "코끼리는 육상 동물 중 가장 큰 동물로, 매우 높은 지능과 사회성을 지닙니다. 이들은 주로 아프리카와 아시아에 서식하며, 가족 단위로 생활하는 경향이 있습니다. 코끼리는 긴 코와 큰 귀가 특징이며, 이들은 환경에 적응하고 서로 소통하는 데 중요한 역할을 합니다.\n"
     ]
    }
   ],
   "source": [
    "#여기서 config를 왜 쓰는 걸까?\n",
    "\n",
    "@chain\n",
    "def search_animal_chain(user_input:str, config : RunnableConfig):\n",
    "    input_ = {\"user_input\" : user_input}\n",
    "    ai_msg = llm_chain.invoke(input_, config=config)\n",
    "\n",
    "    tool_msgs = []\n",
    "    for tool_call in ai_msg.tool_calls:\n",
    "        if tool_call[\"name\"] == \"search_animal\":\n",
    "            tool_message = search_animal.invoke(tool_call, config=config)\n",
    "            tool_msgs.append(tool_message)\n",
    "\n",
    "    return llm_chain.invoke({**input_, \"messages\" : [ai_msg, *tool_msgs]}, config=config)\n",
    "\n",
    "response = search_animal_chain.invoke(\"코끼리에 대해서 알려줘.\")\n",
    "\n",
    "print(response.content)"
   ]
  },
  {
   "cell_type": "markdown",
   "id": "d09d789a",
   "metadata": {},
   "source": [
    "# 교수님 코드"
   ]
  },
  {
   "cell_type": "code",
   "execution_count": null,
   "id": "403eb17f",
   "metadata": {},
   "outputs": [],
   "source": [
    "from langchain_core.documents import Document\n",
    "from langchain.tools import tool\n",
    "from langchain_openai import ChatOpenAI #bind_tools를 위해서 pdf와 달리 이렇게 수정해 주어야 함.\n",
    "\n",
    "from langchain_core.prompts import ChatPromptTemplate\n",
    "from langchain_core.runnables import RunnableConfig, chain\n",
    "\n",
    "from langchain_chroma import Chroma\n",
    "from langchain_openai import OpenAIEmbeddings\n"
   ]
  },
  {
   "cell_type": "code",
   "execution_count": 27,
   "id": "21bfacee",
   "metadata": {},
   "outputs": [],
   "source": [
    "animal_facts = {\n",
    "    \"강아지\" : \"강아지는 인간과 가장 친한 반려동물 중 하나입니다. 충성심이 강하고 활발합니다.\",\n",
    "    \"고양이\" : \"고양이는 독립적인 성격을 가진 반려동물로, 깨긋하고 조용한 성격을 가졌습니다.\",\n",
    "    \"코끼리\" : \"코끼리는 육상 동물 중 가장 큰 동물로, 매우 높은 지능과 사회성을 지닙니다.\",\n",
    "    \"기린\" : \"기린은 목이 매우 길며, 주로 아프리카 사바나에서 서식합니다.\"\n",
    "}"
   ]
  },
  {
   "cell_type": "code",
   "execution_count": 28,
   "id": "b76a48b1",
   "metadata": {},
   "outputs": [],
   "source": [
    "@tool\n",
    "def search_animal(query: str) -> list[Document]:\n",
    "    \"\"\"\n",
    "    이름에 해당하는 동물 정보를 간단히 반환합니다.\n",
    "    \"\"\"\n",
    "\n",
    "    if query in animal_facts:\n",
    "        return [Document(page_content=animal_facts[query])]\n",
    "    return [Document(page_content=\"해당 동물 정보를 찾을 수 없습니다.\")]"
   ]
  },
  {
   "cell_type": "code",
   "execution_count": 31,
   "id": "dfe8b1cc",
   "metadata": {},
   "outputs": [],
   "source": [
    "llm = ChatOpenAI(\n",
    "    model = \"gpt-4o-mini\",\n",
    ")\n",
    "\n",
    "llm_with_tools = llm.bind_tools(tools=[search_animal])"
   ]
  },
  {
   "cell_type": "code",
   "execution_count": null,
   "id": "c2d19ec7",
   "metadata": {},
   "outputs": [
    {
     "name": "stdout",
     "output_type": "stream",
     "text": [
      "AIMessage(content='', additional_kwargs={'tool_calls': [{'id': 'call_feTs0lYNZBAhYZRFpUsvOz6q', 'function': {'arguments': '{\"query\":\"고양이\"}', 'name': 'search_animal'}, 'type': 'function'}], 'refusal': None}, response_metadata={'token_usage': {'completion_tokens': 17, 'prompt_tokens': 58, 'total_tokens': 75, 'completion_tokens_details': {'accepted_prediction_tokens': 0, 'audio_tokens': 0, 'reasoning_tokens': 0, 'rejected_prediction_tokens': 0}, 'prompt_tokens_details': {'audio_tokens': 0, 'cached_tokens': 0}}, 'model_name': 'gpt-4o-mini-2024-07-18', 'system_fingerprint': 'fp_560af6e559', 'finish_reason': 'tool_calls', 'logprobs': None}, id='run--9e6c6c38-1106-467e-8d2e-163b6eaba652-0', tool_calls=[{'name': 'search_animal', 'args': {'query': '고양이'}, 'id': 'call_feTs0lYNZBAhYZRFpUsvOz6q', 'type': 'tool_call'}], usage_metadata={'input_tokens': 58, 'output_tokens': 17, 'total_tokens': 75})\n",
      "--------------------------------------------------\n",
      "''\n",
      "--------------------------------------------------\n",
      "[{'args': {'query': '고양이'},\n",
      "  'id': 'call_feTs0lYNZBAhYZRFpUsvOz6q',\n",
      "  'name': 'search_animal',\n",
      "  'type': 'tool_call'}]\n",
      "--------------------------------------------------\n"
     ]
    }
   ],
   "source": [
    "from pprint import pprint\n",
    "\n",
    "question = \"고양이에 대해 알려줘.\"\n",
    "ai_msg = llm_with_tools.invoke(question)\n",
    "\n",
    "pprint(ai_msg)\n",
    "print(\"-\"*50)\n",
    "\n",
    "pprint(ai_msg.content) \n",
    "print(\"-\"*50)\n",
    "\n",
    "pprint(ai_msg.tool_calls) # 어떻게 쿼리가 동물 이름으로만 나온다는 것을 확신하지?\n",
    "print(\"-\"*50)"
   ]
  },
  {
   "cell_type": "code",
   "execution_count": 38,
   "id": "45497b1b",
   "metadata": {},
   "outputs": [
    {
     "name": "stdout",
     "output_type": "stream",
     "text": [
      "AIMessage(content='', additional_kwargs={'tool_calls': [{'id': 'call_0hliXUOgvwSwzIB0dZZ5vQbL', 'function': {'arguments': '{\"query\":\"고양이\"}', 'name': 'search_animal'}, 'type': 'function'}], 'refusal': None}, response_metadata={'token_usage': {'completion_tokens': 17, 'prompt_tokens': 73, 'total_tokens': 90, 'completion_tokens_details': {'accepted_prediction_tokens': 0, 'audio_tokens': 0, 'reasoning_tokens': 0, 'rejected_prediction_tokens': 0}, 'prompt_tokens_details': {'audio_tokens': 0, 'cached_tokens': 0}}, 'model_name': 'gpt-4o-mini-2024-07-18', 'system_fingerprint': 'fp_8bda4d3a2c', 'finish_reason': 'tool_calls', 'logprobs': None}, id='run--99ff7c7b-5b09-42fa-a540-d243448eada6-0', tool_calls=[{'name': 'search_animal', 'args': {'query': '고양이'}, 'id': 'call_0hliXUOgvwSwzIB0dZZ5vQbL', 'type': 'tool_call'}], usage_metadata={'input_tokens': 73, 'output_tokens': 17, 'total_tokens': 90})\n",
      "[ToolMessage(content=\"[Document(metadata={}, page_content='고양이는 독립적인 성격을 가진 반려동물로, 깨긋하고 조용한 성격을 가졌습니다.')]\", name='search_animal', tool_call_id='call_0hliXUOgvwSwzIB0dZZ5vQbL')]\n",
      "'고양이는 독립적인 성격을 가진 반려동물로, 깨끗하고 조용한 성격을 가지고 있습니다.'\n"
     ]
    }
   ],
   "source": [
    "from datetime import datetime\n",
    "from langchain_core.prompts import ChatPromptTemplate\n",
    "\n",
    "today = datetime.today().strftime(\"%Y-%m-%d\")\n",
    "\n",
    "prompt = ChatPromptTemplate([\n",
    "    (\"system\", f\"You are helpful AI assistant. Today is {today}.\"),\n",
    "    (\"human\", \"{user_input}\"),\n",
    "    (\"placeholder\", \"{message}\"), #tool에 대한 정보를 넣음. + tool이 리턴한 결과\n",
    "])\n",
    "\n",
    "llm = ChatOpenAI(model='gpt-4o-mini')\n",
    "\n",
    "llm_with_tools = llm.bind_tools(tools=[search_animal])\n",
    "\n",
    "llm_chain = prompt | llm_with_tools\n",
    "\n",
    "@chain\n",
    "def animal_search_chain(user_input: str):\n",
    "    input_ = {\"user_input\" : user_input}\n",
    "    ai_msg = llm_chain.invoke(input_)\n",
    "\n",
    "    pprint(ai_msg)\n",
    "\n",
    "    tool_msg = search_animal.batch(ai_msg.tool_calls) #이 부분에서 문제?\n",
    "\n",
    "    pprint(tool_msg)\n",
    "\n",
    "    return llm_chain.invoke({**input_, \"message\" : [ai_msg, *tool_msg]})\n",
    "\n",
    "response = animal_search_chain.invoke(\"고양이에 대해서 알려줘\")\n",
    "pprint(response.content)"
   ]
  }
 ],
 "metadata": {
  "kernelspec": {
   "display_name": "langgraph-work-GT3FxxES-py3.11",
   "language": "python",
   "name": "python3"
  },
  "language_info": {
   "codemirror_mode": {
    "name": "ipython",
    "version": 3
   },
   "file_extension": ".py",
   "mimetype": "text/x-python",
   "name": "python",
   "nbconvert_exporter": "python",
   "pygments_lexer": "ipython3",
   "version": "3.11.9"
  }
 },
 "nbformat": 4,
 "nbformat_minor": 5
}
