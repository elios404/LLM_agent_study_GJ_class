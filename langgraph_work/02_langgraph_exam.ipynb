{
 "cells": [
  {
   "cell_type": "code",
   "execution_count": 1,
   "id": "84167db9",
   "metadata": {},
   "outputs": [
    {
     "data": {
      "text/plain": [
       "True"
      ]
     },
     "execution_count": 1,
     "metadata": {},
     "output_type": "execute_result"
    }
   ],
   "source": [
    "from dotenv import load_dotenv\n",
    "\n",
    "load_dotenv()"
   ]
  },
  {
   "cell_type": "markdown",
   "id": "c0a9d7be",
   "metadata": {},
   "source": [
    "## state 만들기"
   ]
  },
  {
   "cell_type": "code",
   "execution_count": null,
   "id": "563c5dc5",
   "metadata": {},
   "outputs": [],
   "source": [
    "from typing import TypedDict #이게 정확히 어떤 용도?\n",
    "\n",
    "# 상태(Schema) 정의 : 사용자 선호도, 추천 메뉴, 메뉴 정보\n",
    "class MenuState(TypedDict):\n",
    "    user_preference : str # 이렇게 str작성하는 것도 정확히 어떤 의미인지?\n",
    "    recommended_menu : str\n",
    "    menu_info: str"
   ]
  },
  {
   "cell_type": "markdown",
   "id": "9a265b50",
   "metadata": {},
   "source": [
    "## node 만들기\n",
    "\n",
    "state를 받아서 변경하고 state를 return"
   ]
  },
  {
   "cell_type": "code",
   "execution_count": 12,
   "id": "b69d0275",
   "metadata": {},
   "outputs": [],
   "source": [
    "import random\n",
    "\n",
    "def get_user_perference(state : MenuState) -> MenuState:\n",
    "    print(\"-- 랜덤 사용자 선호도 생성--\")\n",
    "    preferences = ['육류', '해산물','채식','아무거나']\n",
    "    preference = random.choice(preferences)\n",
    "    print(f\"생성된 선호도 : {preference}\")\n",
    "\n",
    "    return {\"user_preference\" : preference} # 이렇게 넣으면 Menustate를 바꾸는거야? -> 파이썬 기본 문법이 원래 이래? -> 랭그래프 병합 문법이라고 함."
   ]
  },
  {
   "cell_type": "code",
   "execution_count": 14,
   "id": "83d8f34e",
   "metadata": {},
   "outputs": [],
   "source": [
    "def recommend_menu(state : MenuState) -> MenuState:\n",
    "    print(\"-- 메뉴 추천 --\")\n",
    "    preference = state['user_preference'] # state를 사용해서 접근해야함. state라는 매개변수 이름으로 받아왔으니까\n",
    "    if preference == \"육류\":\n",
    "        menu = '스테이크'\n",
    "    elif preference == \"해산물\":\n",
    "        menu = '랍스타'\n",
    "    elif preference == \"채식\":\n",
    "        menu = '그린 샐러드'\n",
    "    else:\n",
    "        menu = '오늘의 쉐프 특선'\n",
    "\n",
    "    print(f\"오늘의 추천 메뉴 : {menu}\")\n",
    "\n",
    "    return {\"recommended_menu\" : menu}\n"
   ]
  },
  {
   "cell_type": "code",
   "execution_count": 15,
   "id": "5fed82cb",
   "metadata": {},
   "outputs": [],
   "source": [
    "def provide_menu_info(state: MenuState) -> MenuState:\n",
    "    print(\"---메뉴 정보 제공---\")\n",
    "    menu = state['recommended_menu']\n",
    "    if menu == \"스테이크\":\n",
    "        info = \"최상급 소고기로 만든 juicy한 스테이크입니다. 가격: 30,000원\"\n",
    "    elif menu == \"랍스터 파스타\":\n",
    "        info = \"신선한 랍스터와 al dente 파스타의 조화. 가격: 28,000원\"\n",
    "    elif menu == \"그린 샐러드\":\n",
    "        info = \"신선한 유기농 채소로 만든 건강한 샐러드. 가격: 15,000원\"\n",
    "    else:\n",
    "        info = \"쉐프가 그날그날 엄선한 특별 요리입니다. 가격: 35,000원\"\n",
    "    print(f\"메뉴 정보: {info}\")\n",
    "    \n",
    "    return {\"menu_info\": info}"
   ]
  },
  {
   "cell_type": "code",
   "execution_count": 16,
   "id": "56536b2a",
   "metadata": {},
   "outputs": [],
   "source": [
    "from langgraph.graph import StateGraph, START, END\n",
    "\n",
    "builder = StateGraph(MenuState) # 그래프에서 어떤 state 자료형이 공유되는지\n",
    "\n",
    "builder.add_node(\"get_user_perference\", get_user_perference)\n",
    "builder.add_node(\"recommend_menu\", recommend_menu)\n",
    "builder.add_node(\"provide_menu_info\", provide_menu_info)\n",
    "\n",
    "builder.add_edge(START, \"get_user_perference\")\n",
    "builder.add_edge(\"get_user_perference\", \"recommend_menu\")\n",
    "builder.add_edge(\"recommend_menu\", \"provide_menu_info\")\n",
    "builder.add_edge(\"provide_menu_info\", END)\n",
    "\n",
    "graph = builder.compile()"
   ]
  },
  {
   "cell_type": "code",
   "execution_count": 8,
   "id": "570ff9e9",
   "metadata": {},
   "outputs": [
    {
     "data": {
      "image/png": "[encoded data removed]",
      "text/plain": [
       "<IPython.core.display.Image object>"
      ]
     },
     "metadata": {},
     "output_type": "display_data"
    }
   ],
   "source": [
    "from IPython.display import Image, display\n",
    "\n",
    "display(Image(graph.get_graph().draw_mermaid_png()))"
   ]
  },
  {
   "cell_type": "code",
   "execution_count": 17,
   "id": "48aed4d9",
   "metadata": {},
   "outputs": [
    {
     "name": "stdout",
     "output_type": "stream",
     "text": [
      "-- 랜덤 사용자 선호도 생성--\n",
      "생성된 선호도 : 채식\n",
      "-- 메뉴 추천 --\n",
      "오늘의 추천 메뉴 : 그린 샐러드\n",
      "---메뉴 정보 제공---\n",
      "메뉴 정보: 신선한 유기농 채소로 만든 건강한 샐러드. 가격: 15,000원\n",
      "\n",
      " --- 결과---\n",
      "\n",
      " 선호도 :  채식\n",
      "\n",
      " 추천 메뉴 :  그린 샐러드\n",
      "\n",
      " 메뉴 설명 :  신선한 유기농 채소로 만든 건강한 샐러드. 가격: 15,000원\n",
      "========================================\n",
      "\n",
      "-- 랜덤 사용자 선호도 생성--\n",
      "생성된 선호도 : 육류\n",
      "-- 메뉴 추천 --\n",
      "오늘의 추천 메뉴 : 스테이크\n",
      "---메뉴 정보 제공---\n",
      "메뉴 정보: 최상급 소고기로 만든 juicy한 스테이크입니다. 가격: 30,000원\n",
      "\n",
      " --- 결과---\n",
      "\n",
      " 선호도 :  육류\n",
      "\n",
      " 추천 메뉴 :  스테이크\n",
      "\n",
      " 메뉴 설명 :  최상급 소고기로 만든 juicy한 스테이크입니다. 가격: 30,000원\n",
      "========================================\n",
      "\n"
     ]
    }
   ],
   "source": [
    "def print_result(result: MenuState):\n",
    "    print(\"\\n --- 결과---\")\n",
    "    print(\"\\n 선호도 : \", result[\"user_preference\"])\n",
    "    print(\"\\n 추천 메뉴 : \", result[\"recommended_menu\"])\n",
    "    print(\"\\n 메뉴 설명 : \", result[\"menu_info\"])\n",
    "    print(\"=\"*40)\n",
    "\n",
    "inputs = {\"user_preference\": \"\"} #invoke 호출 시에 최소한의 키가 있어야 한다.\n",
    "\n",
    "for _ in range(2):\n",
    "    result = graph.invoke(inputs)\n",
    "    print_result(result)\n",
    "    print()"
   ]
  },
  {
   "cell_type": "code",
   "execution_count": null,
   "id": "06f4e604",
   "metadata": {},
   "outputs": [],
   "source": []
  }
 ],
 "metadata": {
  "kernelspec": {
   "display_name": "langgraph-work-GT3FxxES-py3.11",
   "language": "python",
   "name": "python3"
  },
  "language_info": {
   "codemirror_mode": {
    "name": "ipython",
    "version": 3
   },
   "file_extension": ".py",
   "mimetype": "text/x-python",
   "name": "python",
   "nbconvert_exporter": "python",
   "pygments_lexer": "ipython3",
   "version": "3.11.9"
  }
 },
 "nbformat": 4,
 "nbformat_minor": 5
}
