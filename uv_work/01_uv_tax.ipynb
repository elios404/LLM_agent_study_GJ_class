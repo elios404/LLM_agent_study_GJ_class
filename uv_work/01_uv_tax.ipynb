{
 "cells": [
  {
   "cell_type": "markdown",
   "id": "c17276e2",
   "metadata": {},
   "source": [
    "# tax AI agent"
   ]
  },
  {
   "cell_type": "markdown",
   "id": "90aa1295",
   "metadata": {},
   "source": [
    "## 기본 세팅"
   ]
  },
  {
   "cell_type": "code",
   "execution_count": 153,
   "id": "7aa06970",
   "metadata": {},
   "outputs": [
    {
     "data": {
      "text/plain": [
       "True"
      ]
     },
     "execution_count": 153,
     "metadata": {},
     "output_type": "execute_result"
    }
   ],
   "source": [
    "from dotenv import load_dotenv\n",
    "\n",
    "load_dotenv()"
   ]
  },
  {
   "cell_type": "code",
   "execution_count": 154,
   "id": "4fcd9947",
   "metadata": {},
   "outputs": [],
   "source": [
    "# from langchain_community.document_loaders import Docx2txtLoader\n",
    "# from langchain_text_splitters import RecursiveCharacterTextSplitter\n",
    "\n",
    "# text_splitter = RecursiveCharacterTextSplitter(\n",
    "#     chunk_size = 1500,\n",
    "#     chunk_overlap = 200,\n",
    "# )\n",
    "\n",
    "# loader = Docx2txtLoader('./data/tax.docx')\n",
    "# temp = loader.load_and_split(text_splitter=text_splitter)\n",
    "\n",
    "# document_list = temp[0:80]\n",
    "# len(document_list)"
   ]
  },
  {
   "cell_type": "code",
   "execution_count": 155,
   "id": "889e2e45",
   "metadata": {},
   "outputs": [],
   "source": [
    "from langchain_openai import OpenAIEmbeddings\n",
    "\n",
    "embedding = OpenAIEmbeddings(model=\"text-embedding-3-large\")"
   ]
  },
  {
   "cell_type": "code",
   "execution_count": 156,
   "id": "862d2201",
   "metadata": {},
   "outputs": [],
   "source": [
    "from langchain_chroma import Chroma\n",
    "\n",
    "# 처음 생성할때만\n",
    "# vector_store = Chroma.from_documents(\n",
    "#     documents=document_list,\n",
    "#     embedding=embedding,\n",
    "#     collection_name='chroma_tax',\n",
    "#     persist_directory='./chroma_tax'\n",
    "# )\n",
    "\n",
    "# 불러오기\n",
    "vector_store = Chroma(\n",
    "    embedding_function=embedding,\n",
    "    collection_name='chroma_tax',\n",
    "    persist_directory='./chroma_tax'   \n",
    ")\n",
    "\n",
    "retriever = vector_store.as_retriever(search_kwargs={'k':3})"
   ]
  },
  {
   "cell_type": "code",
   "execution_count": 157,
   "id": "ddd217f6",
   "metadata": {},
   "outputs": [],
   "source": [
    "from typing_extensions import List, TypedDict\n",
    "from langchain_core.documents import Document\n",
    "from langgraph.graph import StateGraph\n",
    "\n",
    "class AgentState(TypedDict):\n",
    "    query : str\n",
    "    context : List[Document]\n",
    "    answer : str\n",
    "    is_generate : bool\n",
    "    generation : int"
   ]
  },
  {
   "cell_type": "markdown",
   "id": "accf0b76",
   "metadata": {},
   "source": [
    "## 코드 작성(실패)"
   ]
  },
  {
   "cell_type": "code",
   "execution_count": 158,
   "id": "07bdacec",
   "metadata": {},
   "outputs": [],
   "source": [
    "system_prompt = \"\"\"\n",
    "당신은 주어진 맥락(Context)이 질문(Query)에 답변하기에 충분히 관련성이 있는지 판단하는 AI입니다.\n",
    "\n",
    "QUESTION = {{question}}\n",
    "CONTEXT = {{documents}}\n",
    "\n",
    "판단 기준:\n",
    "- Context에 Query의 핵심 키워드 또는 의미적으로 관련된 내용이 포함되어 있으면 \"generate\"를 반환하세요.\n",
    "- Context와 Query가 완전히 무관하거나, Context가 너무 모호하여 답변을 생성할 수 없다면 \"rewrite\"를 반환하세요.\n",
    "\n",
    "당신의 응답은 오직 \"generate\" 또는 \"rewrite\" 두 단어 중 하나여야 하며, 다른 어떠한 설명도 포함하지 마세요.\n",
    "\"\"\""
   ]
  },
  {
   "cell_type": "code",
   "execution_count": 159,
   "id": "794ab407",
   "metadata": {},
   "outputs": [],
   "source": [
    "from langchain_openai import ChatOpenAI\n",
    "\n",
    "llm = ChatOpenAI(model=\"gpt-4o\")"
   ]
  },
  {
   "cell_type": "code",
   "execution_count": 160,
   "id": "e0ad3dec",
   "metadata": {},
   "outputs": [],
   "source": [
    "# retrieve 노드\n",
    "# 유사도가 높은 문서를 뽑고 그것을 유사성 점수 검사를 함\n",
    "# 유사도가 높지 않으면 query를 다시 작성하는 rewrite로 보내기\n",
    "# 유사도가 높으면 그것을 기반으로 답변을 작성하는 generate로 보내기\n",
    "\n",
    "from langchain_core.prompts import PromptTemplate\n",
    "\n",
    "def retrieve(state: AgentState) -> AgentState:\n",
    "    query = state['query']\n",
    "\n",
    "    print(query)\n",
    "\n",
    "    docs = retriever.invoke(query)\n",
    "\n",
    "    context = [doc.page_content for doc in docs]\n",
    "\n",
    "    # PromptTemplate 객체 생성\n",
    "    prompt = PromptTemplate.from_template(system_prompt)\n",
    "\n",
    "    # # 변수에 값을 할당하여 템플릿을 완성합니다.\n",
    "    # formatted_prompt = prompt.format(\n",
    "    #     question=query,\n",
    "    #     documents=documents\n",
    "    # )\n",
    "\n",
    "    llm_chain = prompt | llm\n",
    "\n",
    "    response = llm_chain.invoke({\"question\" : query, \"documents\" : context})\n",
    "\n",
    "    print(f\"is_generate : {response.content}\")\n",
    "\n",
    "    return {\"context\" : docs, \"is_generate\" : True if response.content.strip().lower() == \"generate\" else False, \"generation\" : state[\"generation\"]+1}\n"
   ]
  },
  {
   "cell_type": "code",
   "execution_count": 161,
   "id": "ff4509d2",
   "metadata": {},
   "outputs": [],
   "source": [
    "\n",
    "def rewrite(state: AgentState) -> AgentState:\n",
    "    rewrite_prompt = \"\"\"\n",
    "    현재의 Query와 Context는 서로 관련성이 부족합니다.\n",
    "\n",
    "    Query의 핵심 의도는 유지하되, Context의 내용을 활용하여 Query를 더 포괄적이고 다양한 검색 결과를 가져올 수 있는 형태로 수정하세요. Context가 너무 무관하다면, 기존 Query를 그대로 유지하거나 용어만 조금 변경하여 반환하세요.\n",
    "\n",
    "    응답은 오직, 수정된 새로운 Query의 내용만을 반환해야 합니다. 다른 설명, 사과문, 또는 추가적인 요소는 절대 포함하지 마세요.\n",
    "\n",
    "    Query: {{query}}\n",
    "    Context: {{context}}\n",
    "    \"\"\"\n",
    "    docs = state[\"context\"]\n",
    "    context = [doc.page_content for doc in docs]\n",
    "\n",
    "    print(\"old query\", state[\"query\"])\n",
    "    # print(\"context\", context)\n",
    "\n",
    "    # PromptTemplate 객체 생성\n",
    "    prompt = PromptTemplate.from_template(rewrite_prompt)\n",
    "\n",
    "    llm_chain = prompt | llm\n",
    "\n",
    "    response = llm_chain.invoke({\"query\" : state[\"query\"], \"context\" : context})\n",
    "\n",
    "    print(f\"new qeury : {response.content}\")\n",
    "    return {\"query\" : response.content}"
   ]
  },
  {
   "cell_type": "code",
   "execution_count": 162,
   "id": "a2b16265",
   "metadata": {},
   "outputs": [],
   "source": [
    "def generate(state: AgentState) -> AgentState:\n",
    "    generate_prompt = \"\"\" \n",
    "    너는 대한민국 세법 전문가이다. 다음 사용자의 Query와 Context를 기반으로 정확하고 유용한 답변을 제공하라.\n",
    "\n",
    "    Query = {{query}}\n",
    "    Context = {{context}}\n",
    "\n",
    "    답변의 내용은 Context에 '몇 조 몇 항' 과 같은 어디서 참조했는지를 알 수 있는 자료가 있다면 답변에 반드시 포함하라.\n",
    "    최대한 Context의 내용을 기반으로 답변을 작성하라.\n",
    "    \"\"\"\n",
    "\n",
    "    # PromptTemplate 객체 생성\n",
    "    prompt = PromptTemplate.from_template(generate_prompt)\n",
    "\n",
    "    llm_chain = prompt | llm\n",
    "\n",
    "    response = llm_chain.invoke({\"query\" : state[\"query\"], \"context\" : state[\"context\"]})\n",
    "\n",
    "    return {\"answer\" : response.content}"
   ]
  },
  {
   "cell_type": "code",
   "execution_count": 163,
   "id": "307e7bc8",
   "metadata": {},
   "outputs": [],
   "source": [
    "from typing import Literal\n",
    "\n",
    "def should_generate(state: AgentState) -> Literal[\"generate\", \"rewrite\"]:\n",
    "    if state[\"generation\"] > 3:\n",
    "        return \"generate\"\n",
    "    if state[\"is_generate\"]:\n",
    "        return \"generate\"\n",
    "    else:\n",
    "        return \"rewrite\""
   ]
  },
  {
   "cell_type": "code",
   "execution_count": 164,
   "id": "ba66adc6",
   "metadata": {},
   "outputs": [],
   "source": [
    "from langgraph.graph import StateGraph, START, END\n",
    "\n",
    "builder = StateGraph(AgentState)\n",
    "\n",
    "builder.add_node(\"retrieve\", retrieve)\n",
    "builder.add_node(\"rewrite\", rewrite)\n",
    "builder.add_node(\"generate\", generate)\n",
    "\n",
    "builder.add_edge(START, \"retrieve\")\n",
    "builder.add_conditional_edges(\n",
    "    \"retrieve\",\n",
    "    should_generate,\n",
    "    {\n",
    "        \"generate\" : \"generate\",\n",
    "        \"rewrite\" : \"rewrite\"\n",
    "    }\n",
    ")\n",
    "builder.add_edge(\"rewrite\", \"retrieve\")\n",
    "builder.add_edge(\"generate\", END)\n",
    "\n",
    "graph = builder.compile()"
   ]
  },
  {
   "cell_type": "code",
   "execution_count": 165,
   "id": "229da0b9",
   "metadata": {},
   "outputs": [
    {
     "data": {
      "image/png": "[encoded data removed]",
      "text/plain": [
       "<IPython.core.display.Image object>"
      ]
     },
     "metadata": {},
     "output_type": "display_data"
    }
   ],
   "source": [
    "from IPython.display import Image, display\n",
    "\n",
    "display(Image(graph.get_graph().draw_mermaid_png()))"
   ]
  },
  {
   "cell_type": "code",
   "execution_count": null,
   "id": "185f17e9",
   "metadata": {},
   "outputs": [],
   "source": [
    "inputs = {\n",
    "    \"query\" : \"연봉 5000만원 직장인의 소득세는 얼마인가?\",\n",
    "    \"generation\" : 1\n",
    "}\n",
    "\n",
    "response = graph.invoke(inputs)\n",
    "\n",
    "print(response.content)"
   ]
  },
  {
   "cell_type": "markdown",
   "id": "77160114",
   "metadata": {},
   "source": [
    "## 교수님 코드"
   ]
  },
  {
   "cell_type": "code",
   "execution_count": 169,
   "id": "d935f9e5",
   "metadata": {},
   "outputs": [],
   "source": [
    "from typing_extensions import List, TypedDict\n",
    "from langchain_core.documents import Document\n",
    "from langgraph.graph import StateGraph\n",
    "\n",
    "class AgentState(TypedDict):\n",
    "    query : str\n",
    "    context : List[Document]\n",
    "    answer : str"
   ]
  },
  {
   "cell_type": "code",
   "execution_count": 170,
   "id": "e1ecf9de",
   "metadata": {},
   "outputs": [],
   "source": [
    "def retrieve(state:AgentState) -> AgentState:\n",
    "    \"\"\" \n",
    "    사용자의 질문에 기반하여 벡터 스토어에서 관련 문서를 검색합니다.\n",
    "    Args : \n",
    "        state (AgentState) : 사용자의 질문을 포함한 에이전트의 현재 state\n",
    "    Returns : \n",
    "        AgentState: 검색한 문서가 추가된 state를 반환합니다.\n",
    "    \"\"\"\n",
    "\n",
    "    query = state['query']\n",
    "    docs = retriever.invoke(query)\n",
    "\n",
    "    return {\"context\" : docs}\n",
    "    "
   ]
  },
  {
   "cell_type": "code",
   "execution_count": 171,
   "id": "7306afd9",
   "metadata": {},
   "outputs": [],
   "source": [
    "from langchain_openai import ChatOpenAI\n",
    "\n",
    "llm = ChatOpenAI(model=\"gpt-4o\")\n"
   ]
  },
  {
   "cell_type": "code",
   "execution_count": null,
   "id": "7f95a3ce",
   "metadata": {},
   "outputs": [],
   "source": [
    "from langchain import hub\n",
    "\n",
    "generate_prompt = hub.pull('rlm/rag-prompt')\n",
    "\n",
    "def generate(state: AgentState) -> AgentState:\n",
    "    \"\"\" \n",
    "    주어진 state를 기반하여 RAG 체인을 사용하여 응답을 생성합니다.\n",
    "    Args : \n",
    "        state (AgentState) : 사용자의 질문과 문맥을 포함하는 state\n",
    "    Returns : \n",
    "        AgentState: 최종 생성된 응답을 포함하는 state 반환\n",
    "    \"\"\"\n",
    "\n",
    "    context = state['context'] #이렇게 바로 넣어줘도 되나? List[Document]를? 그럼 알아서 문자열로 들어간다고?\n",
    "    query = state['query']\n",
    "\n",
    "    rag_chain = generate_prompt | llm\n",
    "    resonse = rag_chain.invoke({\"question\" : query, \"context\" : context})\n",
    "\n",
    "    return {\"answer\" : response}"
   ]
  },
  {
   "cell_type": "code",
   "execution_count": 172,
   "id": "00f690ca",
   "metadata": {},
   "outputs": [
    {
     "name": "stderr",
     "output_type": "stream",
     "text": [
      "c:\\git_repo\\GJ_class\\uv_work\\.venv\\Lib\\site-packages\\langsmith\\client.py:256: LangSmithMissingAPIKeyWarning: API key must be provided when using hosted LangSmith API\n",
      "  warnings.warn(\n"
     ]
    }
   ],
   "source": [
    "from langchain import hub\n",
    "from typing import Literal\n",
    "\n",
    "doc_relevence_prompt = hub.pull(\"langchain-ai/rag-document-relevance\")\n",
    "\n",
    "def check_doc_relevence(state : AgentState) -> Literal['generate', 'rewrite']:\n",
    "    \"\"\" \n",
    "    주어진 state를 기반하여 문서의 관련성을 판단합니다.\n",
    "    Args : \n",
    "        state (AgentState) : 사용자의 질문과 문맥을 포함하는 state\n",
    "    Returns : \n",
    "        Literal['generate', 'rewrite']: 문서가 관련성이 높으면 'generate', 그렇지 않으면 'rewrite'를 반환합니다.\n",
    "    \"\"\"\n",
    "\n",
    "    query = state[\"query\"]\n",
    "    context = state[\"context\"]\n",
    "\n",
    "    doc_relevence_chain = doc_relevence_prompt | llm\n",
    "\n",
    "    response = doc_relevence_chain.invoke({\"question\" : query, \"documents\" : context})\n",
    "\n",
    "    if response['Score'] == 1:\n",
    "        return \"generate\"\n",
    "    \n",
    "    return \"rewrite\""
   ]
  },
  {
   "cell_type": "code",
   "execution_count": 173,
   "id": "f1e838de",
   "metadata": {},
   "outputs": [],
   "source": [
    "from langchain_core.prompts import PromptTemplate\n",
    "from langchain_core.output_parsers import StrOutputParser\n",
    "\n",
    "dictionary = ['사람과 관련된 표현 -> 거주자']\n",
    "\n",
    "rewrite_prompt = PromptTemplate.from_template(f\"\"\"\n",
    "사용자의 질문을 보고, 우리 사전을 참고해서 사용자의 질문을 변경해 주세요.\n",
    "사전 : {dictionary}\n",
    "질문 : {{query}}\n",
    "\"\"\")\n",
    "\n",
    "def rewrite(state: AgentState) -> AgentState:\n",
    "    \"\"\" \n",
    "    사용자의 질문을 사전을 고려하여 변경합니다.\n",
    "    Args : \n",
    "        state (AgentState) : 사용자의 질문을 포함하는 state\n",
    "    Returns : \n",
    "        AgentState : 변경된 질문을 포함하는 state를 반환합니다.\n",
    "    \"\"\"\n",
    "\n",
    "    query = state['query']\n",
    "\n",
    "    rewrite_chain = rewrite_prompt | llm | StrOutputParser()\n",
    "\n",
    "    response = rewrite_chain.invoke({\"query\" : query})\n",
    "\n",
    "    return {\"query\" : response}\n",
    "\n"
   ]
  },
  {
   "cell_type": "code",
   "execution_count": 174,
   "id": "310ae6f1",
   "metadata": {},
   "outputs": [
    {
     "data": {
      "text/plain": [
       "<langgraph.graph.state.StateGraph at 0x1c8db313ad0>"
      ]
     },
     "execution_count": 174,
     "metadata": {},
     "output_type": "execute_result"
    }
   ],
   "source": [
    "builder = StateGraph(AgentState)\n",
    "\n",
    "builder.add_node(\"retrieve\", retrieve)\n",
    "builder.add_node(\"generate\", generate)\n",
    "builder.add_node(\"rewrite\", rewrite)\n",
    "\n",
    "builder.add_edge(START, 'retrieve')\n",
    "builder.add_conditional_edges(\n",
    "    \"retrieve\",\n",
    "    check_doc_relevence # 노드 이름을 리턴한다면, 추가로 작성해 줄 필요 없다.\n",
    ")\n",
    "builder.add_edge(\"rewrite\", \"retrieve\")\n",
    "builder.add_edge(\"generate\", END)\n"
   ]
  },
  {
   "cell_type": "code",
   "execution_count": 175,
   "id": "1f431349",
   "metadata": {},
   "outputs": [
    {
     "data": {
      "image/png": "[encoded data removed]",
      "text/plain": [
       "<IPython.core.display.Image object>"
      ]
     },
     "metadata": {},
     "output_type": "display_data"
    }
   ],
   "source": [
    "graph = builder.compile()\n",
    "\n",
    "from IPython.display import Image, display\n",
    "\n",
    "display(Image(graph.get_graph().draw_mermaid_png()))"
   ]
  },
  {
   "cell_type": "code",
   "execution_count": 176,
   "id": "07e8f77b",
   "metadata": {},
   "outputs": [],
   "source": [
    "initial_state = {\"query\" : \"연봉 5000만원 직장인의 소득세는?\"}\n",
    "\n",
    "response = graph.invoke(initial_state)"
   ]
  },
  {
   "cell_type": "code",
   "execution_count": 177,
   "id": "486618ce",
   "metadata": {},
   "outputs": [
    {
     "data": {
      "text/plain": [
       "{'query': '연봉 5000만원 직장인의 소득세는?',\n",
       " 'context': [Document(metadata={'source': './data/tax.docx'}, page_content='차. 외국정부(외국의 지방자치단체와 연방국가인 외국의 지방정부를 포함한다. 이하 같다) 또는 대통령령으로 정하는 국제기관에서 근무하는 사람으로서 대통령령으로 정하는 사람이 받는 급여. 다만, 그 외국정부가 그 나라에서 근무하는 우리나라 공무원의 급여에 대하여 소득세를 과세하지 아니하는 경우만 해당한다.\\n\\n카. 「국가유공자 등 예우 및 지원에 관한 법률」 또는 「보훈보상대상자 지원에 관한 법률」에 따라 받는 보훈급여금ㆍ학습보조비\\n\\n타. 「전직대통령 예우에 관한 법률」에 따라 받는 연금\\n\\n파. 작전임무를 수행하기 위하여 외국에 주둔 중인 군인ㆍ군무원이 받는 급여\\n\\n하. 종군한 군인ㆍ군무원이 전사(전상으로 인한 사망을 포함한다. 이하 같다)한 경우 그 전사한 날이 속하는 과세기간의 급여\\n\\n거. 국외 또는 「남북교류협력에 관한 법률」에 따른 북한지역에서 근로를 제공하고 받는 대통령령으로 정하는 급여\\n\\n너. 「국민건강보험법」, 「고용보험법」 또는 「노인장기요양보험법」에 따라 국가, 지방자치단체 또는 사용자가 부담하는 보험료\\n\\n더. 생산직 및 그 관련 직에 종사하는 근로자로서 급여 수준 및 직종 등을 고려하여 대통령령으로 정하는 근로자가 대통령령으로 정하는 연장근로ㆍ야간근로 또는 휴일근로를 하여 받는 급여\\n\\n러. 근로자가 사내급식이나 이와 유사한 방법으로 제공받는 식사 기타 음식물 또는 근로자(식사 기타 음식물을 제공받지 아니하는 자에 한정한다)가 받는 월 20만원 이하의 식사대\\n\\n머. 근로자 또는 그 배우자의 출산이나 6세 이하(해당 과세기간 개시일을 기준으로 판단한다) 자녀의 보육과 관련하여 사용자로부터 받는 급여로서 월 20만원 이내의 금액\\n\\n버. 「국군포로의 송환 및 대우 등에 관한 법률」에 따른 국군포로가 받는 보수 및 퇴직일시금\\n\\n서. 「교육기본법」 제28조제1항에 따라 받는 장학금 중 대학생이 근로를 대가로 지급받는 장학금(「고등교육법」 제2조제1호부터 제4호까지의 규정에 따른 대학에 재학하는 대학생에 한정한다)\\n\\n어. 「발명진흥법」 제2조제2호에 따른 직무발명으로 받는 다음의 보상금(이하 “직무발명보상금”이라 한다)으로서 대통령령으로 정하는 금액\\n\\n\\u3000\\u3000\\u30001) 「발명진흥법」 제2조제2호에 따른 종업원등(이하 이 조, 제20조 및 제21조에서 “종업원등”이라 한다)이 같은 호에 따른 사용자등(이하 이 조에서 “사용자등”이라 한다)으로부터 받는 보상금. 다만, 보상금을 지급한 사용자등과 대통령령으로 정하는 특수관계에 있는 자가 받는 보상금은 제외한다.\\n\\n\\u3000\\u3000\\u30002) 대학의 교직원 또는 대학과 고용관계가 있는 학생이 소속 대학에 설치된 「산업교육진흥 및 산학연협력촉진에 관한 법률」 제25조에 따른 산학협력단(이하 이 조에서 “산학협력단”이라 한다)으로부터 같은 법 제32조제1항제4호에 따라 받는 보상금\\n\\n저. 대통령령으로 정하는 복리후생적 성질의 급여\\n\\n4. 연금소득 중 다음 각 목의 어느 하나에 해당하는 소득'),\n",
       "  Document(metadata={'source': './data/tax.docx'}, page_content='1. 「공익신탁법」에 따른 공익신탁의 이익\\n\\n2. 사업소득 중 다음 각 목의 어느 하나에 해당하는 소득\\n\\n가. 논ㆍ밭을 작물 생산에 이용하게 함으로써 발생하는 소득\\n\\n나. 1개의 주택을 소유하는 자의 주택임대소득(제99조에 따른 기준시가가 12억원을 초과하는 주택 및 국외에 소재하는 주택의 임대소득은 제외한다) 또는 해당 과세기간에 대통령령으로 정하는 총수입금액의 합계액이 2천만원 이하인 자의 주택임대소득(2018년 12월 31일 이전에 끝나는 과세기간까지 발생하는 소득으로 한정한다). 이 경우 주택 수의 계산 및 주택임대소득의 산정 등 필요한 사항은 대통령령으로 정한다.\\n\\n다. 대통령령으로 정하는 농어가부업소득\\n\\n라. 대통령령으로 정하는 전통주의 제조에서 발생하는 소득\\n\\n마. 조림기간 5년 이상인 임지(林地)의 임목(林木)의 벌채 또는 양도로 발생하는 소득으로서 연 600만원 이하의 금액. 이 경우 조림기간 및 세액의 계산 등 필요한 사항은 대통령령으로 정한다.\\n\\n바. 대통령령으로 정하는 작물재배업에서 발생하는 소득\\n\\n사. 대통령령으로 정하는 어로어업 또는 양식어업에서 발생하는 소득\\n\\n3. 근로소득과 퇴직소득 중 다음 각 목의 어느 하나에 해당하는 소득\\n\\n가. 대통령령으로 정하는 복무 중인 병(兵)이 받는 급여\\n\\n나. 법률에 따라 동원된 사람이 그 동원 직장에서 받는 급여\\n\\n다. 「산업재해보상보험법」에 따라 수급권자가 받는 요양급여, 휴업급여, 장해급여, 간병급여, 유족급여, 유족특별급여, 장해특별급여, 장의비 또는 근로의 제공으로 인한 부상ㆍ질병ㆍ사망과 관련하여 근로자나 그 유족이 받는 배상ㆍ보상 또는 위자(慰藉)의 성질이 있는 급여\\n\\n라. 「근로기준법」 또는 「선원법」에 따라 근로자ㆍ선원 및 그 유족이 받는 요양보상금, 휴업보상금, 상병보상금(傷病補償金), 일시보상금, 장해보상금, 유족보상금, 행방불명보상금, 소지품 유실보상금, 장의비 및 장제비\\n\\n마. 「고용보험법」에 따라 받는 실업급여, 육아휴직 급여, 육아기 근로시간 단축 급여, 출산전후휴가 급여등, 「제대군인 지원에 관한 법률」에 따라 받는 전직지원금, 「국가공무원법」ㆍ「지방공무원법」에 따른 공무원 또는 「사립학교교직원 연금법」ㆍ「별정우체국법」을 적용받는 사람이 관련 법령에 따라 받는 육아휴직수당(「사립학교법」 제70조의2에 따라 임명된 사무직원이 학교의 정관 또는 규칙에 따라 지급받는 육아휴직수당으로서 대통령령으로 정하는 금액 이하의 것을 포함한다)\\n\\n바. 「국민연금법」에 따라 받는 반환일시금(사망으로 받는 것만 해당한다) 및 사망일시금'),\n",
       "  Document(metadata={'source': './data/tax.docx'}, page_content='제55조(세율) ①거주자의 종합소득에 대한 소득세는 해당 연도의 종합소득과세표준에 다음의 세율을 적용하여 계산한 금액(이하 “종합소득산출세액”이라 한다)을 그 세액으로 한다. <개정 2014. 1. 1., 2016. 12. 20., 2017. 12. 19., 2020. 12. 29., 2022. 12. 31.>\\n\\n| 종합소득 과세표준          | 세율                                         |\\n\\n|-------------------|--------------------------------------------|\\n\\n| 1,400만원 이하     | 과세표준의 6퍼센트                             |\\n\\n| 1,400만원 초과     5,000만원 이하     | 84만원 + (1,400만원을 초과하는 금액의 15퍼센트)  |\\n\\n| 5,000만원 초과   8,800만원 이하     | 624만원 + (5,000만원을 초과하는 금액의 24퍼센트) |\\n\\n| 8,800만원 초과 1억5천만원 이하    | 3,706만원 + (8,800만원을 초과하는 금액의 35퍼센트)|\\n\\n| 1억5천만원 초과 3억원 이하         | 3,706만원 + (1억5천만원을 초과하는 금액의 38퍼센트)|\\n\\n| 3억원 초과    5억원 이하         | 9,406만원 + (3억원을 초과하는 금액의 38퍼센트)   |\\n\\n| 5억원 초과      10억원 이하        | 1억 7,406만원 + (5억원을 초과하는 금액의 42퍼센트)|\\n\\n| 10억원 초과        | 3억 8,406만원 + (10억원을 초과하는 금액의 45퍼센트)|\\n\\n\\n\\n\\n\\n② 거주자의 퇴직소득에 대한 소득세는 다음 각 호의 순서에 따라 계산한 금액(이하 “퇴직소득 산출세액”이라 한다)으로 한다.<개정 2013. 1. 1., 2014. 12. 23.>\\n\\n1. 해당 과세기간의 퇴직소득과세표준에 제1항의 세율을 적용하여 계산한 금액\\n\\n2. 제1호의 금액을 12로 나눈 금액에 근속연수를 곱한 금액\\n\\n3. 삭제<2014. 12. 23.>\\n\\n[전문개정 2009. 12. 31.]\\n\\n\\n\\n제2관 세액공제 <개정 2009. 12. 31.>\\n\\n\\n\\n제56조(배당세액공제) ① 거주자의 종합소득금액에 제17조제3항 각 호 외의 부분 단서가 적용되는 배당소득금액이 합산되어 있는 경우에는 같은 항 각 호 외의 부분 단서에 따라 해당 과세기간의 총수입금액에 더한 금액에 해당하는 금액을 종합소득 산출세액에서 공제한다. <개정 2009. 12. 31.>\\n\\n② 제1항에 따른 공제를 “배당세액공제”라 한다.<개정 2009. 12. 31.>\\n\\n③ 삭제<2003. 12. 30.>\\n\\n④ 제1항을 적용할 때 배당세액공제의 대상이 되는 배당소득금액은 제14조제2항의 종합소득과세표준에 포함된 배당소득금액으로서 이자소득등의 종합과세기준금액을 초과하는 것으로 한다.<개정 2009. 12. 31.>\\n\\n⑤ 삭제<2006. 12. 30.>')],\n",
       " 'answer': '물론입니다. Query와 Context를 제공해 주시면 그에 맞춰 답변을 드리겠습니다.'}"
      ]
     },
     "execution_count": 177,
     "metadata": {},
     "output_type": "execute_result"
    }
   ],
   "source": [
    "response"
   ]
  },
  {
   "cell_type": "code",
   "execution_count": 179,
   "id": "a55f6126",
   "metadata": {},
   "outputs": [
    {
     "name": "stdout",
     "output_type": "stream",
     "text": [
      "물론입니다. Query와 Context를 제공해 주시면 그에 맞춰 답변을 드리겠습니다.\n"
     ]
    }
   ],
   "source": [
    "print(response['answer'])"
   ]
  },
  {
   "cell_type": "code",
   "execution_count": null,
   "id": "4f6bea47",
   "metadata": {},
   "outputs": [],
   "source": []
  }
 ],
 "metadata": {
  "kernelspec": {
   "display_name": "uv-work",
   "language": "python",
   "name": "python3"
  },
  "language_info": {
   "codemirror_mode": {
    "name": "ipython",
    "version": 3
   },
   "file_extension": ".py",
   "mimetype": "text/x-python",
   "name": "python",
   "nbconvert_exporter": "python",
   "pygments_lexer": "ipython3",
   "version": "3.11.9"
  }
 },
 "nbformat": 4,
 "nbformat_minor": 5
}
