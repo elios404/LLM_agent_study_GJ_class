{
 "cells": [
  {
   "cell_type": "code",
   "execution_count": 1,
   "id": "7ceaaae0",
   "metadata": {},
   "outputs": [
    {
     "data": {
      "text/plain": [
       "True"
      ]
     },
     "execution_count": 1,
     "metadata": {},
     "output_type": "execute_result"
    }
   ],
   "source": [
    "from dotenv import load_dotenv\n",
    "\n",
    "load_dotenv()"
   ]
  },
  {
   "cell_type": "code",
   "execution_count": null,
   "id": "5e290ffb",
   "metadata": {},
   "outputs": [
    {
     "name": "stdout",
     "output_type": "stream",
     "text": [
      "2\n",
      "\n",
      "<class 'list'>\n",
      "\n",
      "page_content='file.md 2025-09-09\n",
      "1 / 2\n",
      "프로젝트  개요 : K-Culture 팬  창작자  보상  및  활동  증명 \n",
      "플랫폼 \n",
      "1. 프로젝트  비전  (The 'Why')\n",
      "K-POP 의  성장을  이끄는  숨은  주역인  팬  창작자들의  열정과  기여가  정당한  가치로  인정받는  생태계 를  만듭니 \n",
      "다 . 우리는  저작권  문제를  지혜롭게  해결하면서 , 이들의  창작  활동이  투명한  보상 과  영구적인  명예 로  이어지는 \n",
      "새로운  모델을  제시합니다 .\n",
      "2. 문제  정의와  핵심  해결책 \n",
      "문제 : 댄스  커버 , 팬아트  등  2 차  창작물은  원저작권  때문에  직접적인  ' 판매 ' 나  ' 수익화 ' 가  불가능합니다 . 이 \n",
      "로  인해  창작자들의  기여는  정당한  보상으로  이어지지  못하고  휘발되기  쉽습니다 . 또한  K-POP 안무  또한 \n",
      "저작권으로  보호  되지만 , 음악에  비해서  저작권  인식이  높지  않다 .\n",
      "핵심  해결책 : ' 판매 ' 가  아닌  ' 시상 (Reward)' 모델 \n",
      "우리는  저작권이  있는  2 차  창작물을  거래하는  NFT 마켓플레이스를  만들지  않습니다 .\n",
      "대신 , ' 댄스  경연대회 ' 모델을  적용합니다 . 참가자들이  기존  곡으로  실력을  뽐내고  **' 상금 '** 을  받 \n",
      "는  것처럼 , 팬  창작자들은  자신의  활동과  인기에  따라  ' 보상  풀 (Reward Pool)' 에  모인  재원 을  받게 \n",
      "됩니다 .\n",
      "이  모델을  통해  우리는  저작권  침해  없이 , 창작자의  **' 활동 ' 과  ' 기여 '** 에  대해  보상할  수  있습니다 .\n",
      "3. ' 보상  풀 ' 의  재원은  어디서  오는가 ? ( 상금의  출처 )\n",
      "이  상금은  **' 팬덤  활성화 '** 를  목표로  하는  다양한  주체로부터  나옵니다 .\n",
      "1. 아티스트 / 소속사 : 신곡  홍보 , 챌린지  이벤트  등  마케팅  예산 의  일부를  가장  열정적인  팬들에게  직접  보상 \n",
      "하는  효율적인  채널로  활용합니다 .\n",
      "2. 플랫폼  자체 : 플랫폼  내  광고 , 프리미엄  기능  등  자체  수익 의  일부를  커뮤니티에  환원합니다 .\n",
      "3. 기업  및  커뮤니티 : 플랫폼의  비전에  공감하는  외부  기업의  스폰서십 이나  커뮤니티의  자발적인  후원금 으 \n",
      "로  재원을  마련합니다 .\n",
      "추가로  블록체인을  통해서 , 안무가나  작곡가 , 가수  등의  저작권자에게  자동으로  수익의  일부를  사용료로  제공 \n",
      "하는  것 ?\n",
      "4. 주요  기능  (The 'What')\n",
      "블 록 체 인  기 반  핵 심  기 능  (On-Chain) ⛓ \n",
      "투명한  보상  풀  (Reward Pool)\n",
      "설명 : 외부 ( 소속사 , 기업  등 ) 로부터  재원을  예치받는  투명한  디지털  금고 입니다 .\n",
      "기능 : ' 응원 ' 수치  등  온체인 / 오프체인  데이터를  기반으로 , 정해진  규칙에  따라  누구의  개입도  없이 \n",
      "자동으로  창작자에게  보상을  분배합니다 . 모든  입출금  내역은  블록체인에  투명하게  공개됩니다 .\n",
      "영구적인  활동  증명  뱃지  (SBT: Soulbound Token)\n",
      "설명 : 창작자의  빛나는  업적을  기록하는  양도  및  판매가  불가능한  디지털  훈장 입니다 .' metadata={'source': './data/proposal.pdf', 'page': 0}\n"
     ]
    }
   ],
   "source": [
    "from langchain_community.document_loaders import PyPDFLoader\n",
    "\n",
    "pdf_loader = PyPDFLoader('./data/proposal.pdf') #  data 폴더 안에 들어있습니다.\n",
    "pdf_docs = pdf_loader.load()\n",
    "\n",
    "print(len(pdf_docs)) # number of documents\n",
    "print()\n",
    "print(type(pdf_docs)) # list of documents\n",
    "print()\n",
    "print(pdf_docs[0]) # document"
   ]
  },
  {
   "cell_type": "code",
   "execution_count": null,
   "id": "e6542eaa",
   "metadata": {},
   "outputs": [
    {
     "name": "stdout",
     "output_type": "stream",
     "text": [
      "생성된 텍스트 청크 수 : 3\n",
      "각 청크의 길이 : [927, 902, 774]\n"
     ]
    }
   ],
   "source": [
    "from langchain_text_splitters import RecursiveCharacterTextSplitter\n",
    "\n",
    "text_splitter = RecursiveCharacterTextSplitter(\n",
    "    chunk_size = 1000,\n",
    "    chunk_overlap = 200, # 문맥을 살리기 위해서 겹치는 부분 크기\n",
    "    length_function = len, # 글자 수를 기준 -> 이걸 왜씀? 청크 사이즈 1000이 글자수 1000이 되도록 한다.\n",
    "    separators = [\"\\n\\n\", \"\\n\", \" \", \"\"], # 여러 기준으로 청크 나누기가 가능, 앞에 나오는 것 우선 -> 이게 RecursiveCharacterTextSplitter의 핵심 기능\n",
    ")\n",
    "\n",
    "texts = text_splitter.split_documents(pdf_docs) # 위에서 읽은 pdf\n",
    "print(f\"생성된 텍스트 청크 수 : {len(texts)}\")\n",
    "print(f\"각 청크의 길이 : {list(len(text.page_content) for text in texts)}\")"
   ]
  },
  {
   "cell_type": "code",
   "execution_count": null,
   "id": "82eed743",
   "metadata": {},
   "outputs": [],
   "source": [
    "from langchain_openai import OpenAIEmbeddings\n",
    "\n",
    "embeddings_model = OpenAIEmbeddings(model = \"text-embedding-3-large\")\n",
    "\n",
    "embeddings_model"
   ]
  },
  {
   "cell_type": "code",
   "execution_count": null,
   "id": "17fa0ab1",
   "metadata": {},
   "outputs": [],
   "source": [
    "from langchain_chroma import Chroma\n",
    "\n",
    "# 처음 데이터 생성\n",
    "vector_store = Chroma.from_documents(\n",
    "    documents=texts,\n",
    "    embedding=embeddings_model,\n",
    "    collection_name='chroma-req',\n",
    "    persist_directory='./chroma-req'\n",
    ")\n",
    "\n",
    "# 데이터 로딩\n",
    "# vector_store = Chroma(\n",
    "#     collection_name='chroma-req',\n",
    "#     embedding_function=embeddings_model,\n",
    "#     persist_directory='./chroma-req'\n",
    "# )\n",
    "\n",
    "retriever = vector_store.as_retriever(search_kwargs={'k':3})"
   ]
  }
 ],
 "metadata": {
  "kernelspec": {
   "display_name": "uv-work",
   "language": "python",
   "name": "python3"
  },
  "language_info": {
   "codemirror_mode": {
    "name": "ipython",
    "version": 3
   },
   "file_extension": ".py",
   "mimetype": "text/x-python",
   "name": "python",
   "nbconvert_exporter": "python",
   "pygments_lexer": "ipython3",
   "version": "3.11.9"
  }
 },
 "nbformat": 4,
 "nbformat_minor": 5
}
