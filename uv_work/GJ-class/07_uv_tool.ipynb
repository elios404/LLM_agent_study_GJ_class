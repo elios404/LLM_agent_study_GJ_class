{
 "cells": [
  {
   "cell_type": "code",
   "execution_count": 46,
   "id": "27741f28",
   "metadata": {},
   "outputs": [
    {
     "data": {
      "text/plain": [
       "True"
      ]
     },
     "execution_count": 46,
     "metadata": {},
     "output_type": "execute_result"
    }
   ],
   "source": [
    "from dotenv import load_dotenv\n",
    "\n",
    "load_dotenv()"
   ]
  },
  {
   "cell_type": "code",
   "execution_count": 47,
   "id": "b05d6e97",
   "metadata": {},
   "outputs": [],
   "source": [
    "from langchain_openai import ChatOpenAI\n",
    "\n",
    "llm = ChatOpenAI(model=\"gpt-4o\", streaming=True )\n",
    "small_llm = ChatOpenAI(model=\"gpt-4o-mini\", streaming=True)"
   ]
  },
  {
   "cell_type": "code",
   "execution_count": 48,
   "id": "8b1c7f5d",
   "metadata": {},
   "outputs": [],
   "source": [
    "from langchain_core.tools import tool\n",
    "\n",
    "@tool\n",
    "def add(a:int, b:int) -> int:\n",
    "    \"\"\" \n",
    "    숫자 a와 b를 더합니다.\n",
    "    \"\"\"\n",
    "    return a+b\n",
    "\n",
    "@tool\n",
    "def multiple(a:int, b:int) -> int:\n",
    "    \"\"\" \n",
    "    숫자 a와 b를 곱합니다.\n",
    "    \"\"\"\n",
    "    return a*b"
   ]
  },
  {
   "cell_type": "code",
   "execution_count": 49,
   "id": "02408b83",
   "metadata": {},
   "outputs": [],
   "source": [
    "from langgraph.prebuilt import ToolNode\n",
    "\n",
    "tool_list = [add, multiple]\n",
    "llm_with_tools = llm.bind_tools(tool_list) #llm이 어떤 tool을 사용해야할지 결정함. Message로 반환\n",
    "tool_node = ToolNode(tool_list) # Message를 기반으로 자동으로 tool을 실행(호출)하는 노드"
   ]
  },
  {
   "cell_type": "code",
   "execution_count": 50,
   "id": "fa3c03eb",
   "metadata": {},
   "outputs": [],
   "source": [
    "ai_message = llm_with_tools.invoke(\"What is 3 plus 5?\")"
   ]
  },
  {
   "cell_type": "code",
   "execution_count": 51,
   "id": "0707d754",
   "metadata": {},
   "outputs": [
    {
     "data": {
      "text/plain": [
       "AIMessage(content='', additional_kwargs={'tool_calls': [{'index': 0, 'id': 'call_WIFrTfay8wlhhh6UONIERIRX', 'function': {'arguments': '{\"a\":3,\"b\":5}', 'name': 'add'}, 'type': 'function'}]}, response_metadata={'finish_reason': 'tool_calls', 'model_name': 'gpt-4o-2024-08-06', 'system_fingerprint': 'fp_cbf1785567'}, id='run--5f5d3097-9503-46e2-87bc-41fdf633111d-0', tool_calls=[{'name': 'add', 'args': {'a': 3, 'b': 5}, 'id': 'call_WIFrTfay8wlhhh6UONIERIRX', 'type': 'tool_call'}])"
      ]
     },
     "execution_count": 51,
     "metadata": {},
     "output_type": "execute_result"
    }
   ],
   "source": [
    "ai_message # tool이 호출됨"
   ]
  },
  {
   "cell_type": "code",
   "execution_count": 52,
   "id": "171f8b30",
   "metadata": {},
   "outputs": [
    {
     "data": {
      "text/plain": [
       "{'messages': [ToolMessage(content='8', name='add', tool_call_id='call_WIFrTfay8wlhhh6UONIERIRX')]}"
      ]
     },
     "execution_count": 52,
     "metadata": {},
     "output_type": "execute_result"
    }
   ],
   "source": [
    "tool_node.invoke({'messages':[ai_message]})"
   ]
  },
  {
   "cell_type": "code",
   "execution_count": 53,
   "id": "3a95294d",
   "metadata": {},
   "outputs": [],
   "source": [
    "from langgraph.graph import MessagesState, StateGraph\n",
    "\n",
    "graph_builder = StateGraph(MessagesState) #Messages 가 안에 존재"
   ]
  },
  {
   "cell_type": "code",
   "execution_count": 54,
   "id": "b301d5b4",
   "metadata": {},
   "outputs": [],
   "source": [
    "def agent(state: MessagesState) -> MessagesState:\n",
    "    messages = state['messages']\n",
    "    response = llm_with_tools.invoke(messages)\n",
    "\n",
    "    return {\"messages\": [response]} #MessagesState의 특징으로 append하는 것 처럼 추가됨."
   ]
  },
  {
   "cell_type": "code",
   "execution_count": 55,
   "id": "07fe7150",
   "metadata": {},
   "outputs": [],
   "source": [
    "from typing import Literal\n",
    "from langgraph.graph import START, END\n",
    "\n",
    "def should_continue(state: MessagesState) -> Literal['tools', END]: #END로 넣는 것이 가능하다. END는 상수 객체\n",
    "    messages = state['messages']\n",
    "    last_ai_messages = messages[-1]\n",
    "\n",
    "    if last_ai_messages.tool_calls:\n",
    "        return 'tools'\n",
    "    \n",
    "    return END"
   ]
  },
  {
   "cell_type": "code",
   "execution_count": 56,
   "id": "12d5d385",
   "metadata": {},
   "outputs": [
    {
     "data": {
      "text/plain": [
       "<langgraph.graph.state.StateGraph at 0x1fda78a5c90>"
      ]
     },
     "execution_count": 56,
     "metadata": {},
     "output_type": "execute_result"
    }
   ],
   "source": [
    "graph_builder.add_node('agent', agent)\n",
    "graph_builder.add_node('tools', tool_node)"
   ]
  },
  {
   "cell_type": "code",
   "execution_count": 57,
   "id": "4ee19264",
   "metadata": {},
   "outputs": [
    {
     "data": {
      "text/plain": [
       "<langgraph.graph.state.StateGraph at 0x1fda78a5c90>"
      ]
     },
     "execution_count": 57,
     "metadata": {},
     "output_type": "execute_result"
    }
   ],
   "source": [
    "graph_builder.add_edge(START, 'agent')\n",
    "graph_builder.add_conditional_edges(\n",
    "    'agent',\n",
    "    should_continue,\n",
    "    ['tools', END]\n",
    "    # {\n",
    "    #     'tools' : \"tools\",\n",
    "    #     'end' : END\n",
    "    # }\n",
    ")\n",
    "\n",
    "graph_builder.add_edge('tools', 'agent')"
   ]
  },
  {
   "cell_type": "code",
   "execution_count": 58,
   "id": "f73dcd66",
   "metadata": {},
   "outputs": [
    {
     "data": {
      "image/png": "[encoded data removed]",
      "text/plain": [
       "<langgraph.graph.state.CompiledStateGraph object at 0x000001FDA6FB0750>"
      ]
     },
     "execution_count": 58,
     "metadata": {},
     "output_type": "execute_result"
    }
   ],
   "source": [
    "graph = graph_builder.compile()\n",
    "graph"
   ]
  },
  {
   "cell_type": "code",
   "execution_count": null,
   "id": "990dc2e7",
   "metadata": {},
   "outputs": [],
   "source": []
  },
  {
   "cell_type": "code",
   "execution_count": 59,
   "id": "6d382625",
   "metadata": {},
   "outputs": [
    {
     "name": "stdout",
     "output_type": "stream",
     "text": [
      "================================\u001b[1m Human Message \u001b[0m=================================\n",
      "\n",
      "3에다 5을 더하고 거기에 8을 곱하면?\n",
      "==================================\u001b[1m Ai Message \u001b[0m==================================\n",
      "Tool Calls:\n",
      "  add (call_4rvarzrJtUalNmTfeD9SAvuP)\n",
      " Call ID: call_4rvarzrJtUalNmTfeD9SAvuP\n",
      "  Args:\n",
      "    a: 3\n",
      "    b: 5\n",
      "  multiple (call_kWXKGO9LH8OzcDBAR4E1jBgT)\n",
      " Call ID: call_kWXKGO9LH8OzcDBAR4E1jBgT\n",
      "  Args:\n",
      "    a: 8\n",
      "    b: 8\n",
      "=================================\u001b[1m Tool Message \u001b[0m=================================\n",
      "Name: multiple\n",
      "\n",
      "64\n",
      "==================================\u001b[1m Ai Message \u001b[0m==================================\n",
      "Tool Calls:\n",
      "  multiple (call_aeolCA6I2w8iGKZEeEsxf0ok)\n",
      " Call ID: call_aeolCA6I2w8iGKZEeEsxf0ok\n",
      "  Args:\n",
      "    a: 8\n",
      "    b: 8\n",
      "=================================\u001b[1m Tool Message \u001b[0m=================================\n",
      "Name: multiple\n",
      "\n",
      "64\n",
      "==================================\u001b[1m Ai Message \u001b[0m==================================\n",
      "\n",
      "3에 5를 더하면 8이 되고, 거기에 8을 곱하면 64가 됩니다.\n"
     ]
    }
   ],
   "source": [
    "from langchain_core.messages import AIMessage, HumanMessage\n",
    "from pprint import pprint\n",
    "\n",
    "for chunk in graph.stream({'messages' : [HumanMessage('3에다 5을 더하고 거기에 8을 곱하면?')]}, stream_mode='values'): #invoke 와 비슷, stream으로 받음\n",
    "    chunk['messages'][-1].pretty_print()"
   ]
  },
  {
   "cell_type": "markdown",
   "id": "3275d76e",
   "metadata": {},
   "source": [
    "## Google tool 추가"
   ]
  },
  {
   "cell_type": "code",
   "execution_count": 60,
   "id": "01749845",
   "metadata": {},
   "outputs": [],
   "source": [
    "from langchain_community.tools import DuckDuckGoSearchRun\n",
    "\n",
    "search_tool = DuckDuckGoSearchRun()"
   ]
  },
  {
   "cell_type": "code",
   "execution_count": 61,
   "id": "e6b51708",
   "metadata": {},
   "outputs": [],
   "source": [
    "from langchain_google_community import GmailToolkit\n",
    "from langchain_google_community.gmail.utils import (\n",
    "    build_resource_service,\n",
    "    get_gmail_credentials,\n",
    ")\n",
    "\n",
    "credentials = get_gmail_credentials(\n",
    "    token_file=\"./google/google_token.json\",\n",
    "    scopes=[\"https://mail.google.com/\"],\n",
    "    client_secrets_file=\"./google/google_credential.json\",\n",
    ")\n",
    "api_resource = build_resource_service(credentials=credentials)\n",
    "gmail_toolkit = GmailToolkit(api_resource=api_resource)\n",
    "gmail_tool_list = gmail_toolkit.get_tools()"
   ]
  },
  {
   "cell_type": "code",
   "execution_count": 62,
   "id": "530f3e89",
   "metadata": {},
   "outputs": [
    {
     "data": {
      "text/plain": [
       "[GmailCreateDraft(api_resource=<googleapiclient.discovery.Resource object at 0x000001FDA795E2D0>),\n",
       " GmailSendMessage(api_resource=<googleapiclient.discovery.Resource object at 0x000001FDA795E2D0>),\n",
       " GmailSearch(api_resource=<googleapiclient.discovery.Resource object at 0x000001FDA795E2D0>),\n",
       " GmailGetMessage(api_resource=<googleapiclient.discovery.Resource object at 0x000001FDA795E2D0>),\n",
       " GmailGetThread(api_resource=<googleapiclient.discovery.Resource object at 0x000001FDA795E2D0>)]"
      ]
     },
     "execution_count": 62,
     "metadata": {},
     "output_type": "execute_result"
    }
   ],
   "source": [
    "gmail_tool_list"
   ]
  },
  {
   "cell_type": "code",
   "execution_count": 63,
   "id": "85322ff6",
   "metadata": {},
   "outputs": [],
   "source": [
    "from langgraph.prebuilt import ToolNode\n",
    "\n",
    "tool_list = [add, multiple, search_tool] + gmail_tool_list\n",
    "llm_with_tools = llm.bind_tools(tool_list)\n",
    "tool_node = ToolNode(tool_list)"
   ]
  },
  {
   "cell_type": "code",
   "execution_count": 64,
   "id": "f6a34c16",
   "metadata": {},
   "outputs": [],
   "source": [
    "from langgraph.graph import MessagesState, StateGraph\n",
    "from typing import Literal\n",
    "from langgraph.graph import START, END\n",
    "\n",
    "graph_builder = StateGraph(MessagesState) #Messages 가 안에 존재\n",
    "\n",
    "def agent(state: MessagesState) -> MessagesState:\n",
    "    messages = state['messages']\n",
    "    response = llm_with_tools.invoke(messages)\n",
    "\n",
    "    return {\"messages\": [response]} #MessagesState의 특징으로 append하는 것 처럼 추가됨.\n",
    "\n",
    "def should_continue(state: MessagesState) -> Literal['tools', END]: #END로 넣는 것이 가능하다. END는 상수 객체\n",
    "    messages = state['messages']\n",
    "    last_ai_messages = messages[-1]\n",
    "\n",
    "    if last_ai_messages.tool_calls:\n",
    "        return 'tools'\n",
    "    \n",
    "    return END"
   ]
  },
  {
   "cell_type": "code",
   "execution_count": 65,
   "id": "bd71fde6",
   "metadata": {},
   "outputs": [
    {
     "data": {
      "image/png": "[encoded data removed]",
      "text/plain": [
       "<langgraph.graph.state.CompiledStateGraph object at 0x000001FDA7924490>"
      ]
     },
     "execution_count": 65,
     "metadata": {},
     "output_type": "execute_result"
    }
   ],
   "source": [
    "graph_builder.add_node('agent', agent)\n",
    "graph_builder.add_node('tools', tool_node)\n",
    "\n",
    "graph_builder.add_edge(START, 'agent')\n",
    "graph_builder.add_conditional_edges(\n",
    "    'agent',\n",
    "    should_continue,\n",
    "    ['tools', END]\n",
    "    # {\n",
    "    #     'tools' : \"tools\",\n",
    "    #     'end' : END\n",
    "    # }\n",
    ")\n",
    "\n",
    "graph_builder.add_edge('tools', 'agent')\n",
    "\n",
    "graph = graph_builder.compile()\n",
    "graph"
   ]
  },
  {
   "cell_type": "code",
   "execution_count": 67,
   "id": "64648e55",
   "metadata": {},
   "outputs": [
    {
     "name": "stdout",
     "output_type": "stream",
     "text": [
      "================================\u001b[1m Human Message \u001b[0m=================================\n",
      "\n",
      "What currency is in 장원영's birthplace? Find the currency and email it to elioscode@gmail.com\n",
      "==================================\u001b[1m Ai Message \u001b[0m==================================\n",
      "Tool Calls:\n",
      "  duckduckgo_search (call_QL8DhCiMHijOSc6ysYM64eBl)\n",
      " Call ID: call_QL8DhCiMHijOSc6ysYM64eBl\n",
      "  Args:\n",
      "    query: 장원영 birthplace\n"
     ]
    },
    {
     "name": "stderr",
     "output_type": "stream",
     "text": [
      "c:\\git_repo\\GJ_class\\uv_work\\.venv\\Lib\\site-packages\\langchain_community\\utilities\\duckduckgo_search.py:64: UserWarning: 'api' backend is deprecated, using backend='auto'\n",
      "  ddgs_gen = ddgs.text(\n"
     ]
    },
    {
     "name": "stdout",
     "output_type": "stream",
     "text": [
      "=================================\u001b[1m Tool Message \u001b[0m=================================\n",
      "Name: duckduckgo_search\n",
      "\n",
      "장원영 ( 2004 년 8월 31일 ~ ) 은 대한민국의 가수이다. 그녀는 스타쉽 엔터테인먼트 소속 의 대한민국 걸 그룹 아이브 의 멤버이자, 프로젝트 걸 그룹 아이즈원 의 ... IVE에서 대체불가 매력과 보컬을 맡고 있는 장원영입니다! 대한민국의 가수. 스타쉽엔터테인먼트 소속 6인조 걸그룹 IVE의 멤버. 장원영(張員瑛, 2004년 8월 31일~)은 대한민국의 가수로, 걸 그룹 IVE의 멤버이다. 장원영. 2023년 멜론 뮤직 어워드 당시의 장원영. 기본 정보. 2018년 8월 31일, 데뷔 멤버를 결정짓는 최종 순위발표식에서 1등을 하여 걸그룹 IZ*ONE으로 데뷔하였다. 상세 내용 아이콘.svg 자세한 내용은 장원영(IZ*ONE)/프로듀스 48 ... Jang Wonyoung (Korean: 장원영; Japanese: チャン・ウォニョン; or simply ... Birthplace. South Korea-Flagicon Ichon-dong, Yongsan-gu, Seoul, South Korea ...\n",
      "==================================\u001b[1m Ai Message \u001b[0m==================================\n",
      "Tool Calls:\n",
      "  duckduckgo_search (call_MSpcXAtwV3yhycVtU8IbAjgo)\n",
      " Call ID: call_MSpcXAtwV3yhycVtU8IbAjgo\n",
      "  Args:\n",
      "    query: South Korea currency\n"
     ]
    },
    {
     "name": "stderr",
     "output_type": "stream",
     "text": [
      "c:\\git_repo\\GJ_class\\uv_work\\.venv\\Lib\\site-packages\\langchain_community\\utilities\\duckduckgo_search.py:64: UserWarning: 'api' backend is deprecated, using backend='auto'\n",
      "  ddgs_gen = ddgs.text(\n"
     ]
    },
    {
     "name": "stdout",
     "output_type": "stream",
     "text": [
      "=================================\u001b[1m Tool Message \u001b[0m=================================\n",
      "Name: duckduckgo_search\n",
      "\n",
      "The South Korean won, sometimes known as the Republic of Korea won is the official currency of South Korea. A single won is divided into 100 jeon, ... The South Korean won is the official currency of South Korea. Its currency code is KRW and its symbol is ₩. The won's conversion factor goes to 6 significant ... KRW - South Korean Won ... Our currency rankings show that the most popular South Korean Won exchange rate is the KRW to USD rate. The currency code for South ... Coins come in 1, 5, 10, 100, and 500 won (1 and 5 won coins are not widely circulated). Korea's Bills. 1,000 won (cheon won). 1,000 won Front. Front. 1,000 won ... Currency in circulation. Legal Tender. These banknotes and coins were put into circulation between 1962 and 2009. Some of these currencies are no longer ...\n",
      "==================================\u001b[1m Ai Message \u001b[0m==================================\n",
      "Tool Calls:\n",
      "  send_gmail_message (call_nMWPXs1uWWJrwTBX9z9JpAzR)\n",
      " Call ID: call_nMWPXs1uWWJrwTBX9z9JpAzR\n",
      "  Args:\n",
      "    message: The official currency of Jang Wonyoung's birthplace, South Korea, is the South Korean Won (KRW).\n",
      "    subject: Currency of Jang Wonyoung's Birthplace\n",
      "    to: elioscode@gmail.com\n",
      "=================================\u001b[1m Tool Message \u001b[0m=================================\n",
      "Name: send_gmail_message\n",
      "\n",
      "Message sent. Message Id: 1992782294cb990f\n",
      "==================================\u001b[1m Ai Message \u001b[0m==================================\n",
      "\n",
      "I found that the official currency of Jang Wonyoung's birthplace, South Korea, is the South Korean Won (KRW). I have sent this information to elioscode@gmail.com.\n"
     ]
    }
   ],
   "source": [
    "from langchain_core.messages import AIMessage, HumanMessage\n",
    "\n",
    "query = \"What currency is in 장원영's birthplace? Find the currency and email it to elioscode@gmail.com\"\n",
    "\n",
    "for chunk in graph.stream({'messages' : [HumanMessage(query)]}, stream_mode='values'): #invoke 와 비슷, stream으로 받음\n",
    "    chunk['messages'][-1].pretty_print()"
   ]
  }
 ],
 "metadata": {
  "kernelspec": {
   "display_name": "uv-work",
   "language": "python",
   "name": "python3"
  },
  "language_info": {
   "codemirror_mode": {
    "name": "ipython",
    "version": 3
   },
   "file_extension": ".py",
   "mimetype": "text/x-python",
   "name": "python",
   "nbconvert_exporter": "python",
   "pygments_lexer": "ipython3",
   "version": "3.11.9"
  }
 },
 "nbformat": 4,
 "nbformat_minor": 5
}
