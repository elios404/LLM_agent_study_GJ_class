{
 "cells": [
  {
   "cell_type": "markdown",
   "id": "ba013d76",
   "metadata": {},
   "source": [
    "# SMITHERY MCP SERVER 사용하기"
   ]
  },
  {
   "cell_type": "code",
   "execution_count": 1,
   "id": "8a4f44e9",
   "metadata": {},
   "outputs": [
    {
     "data": {
      "text/plain": [
       "True"
      ]
     },
     "execution_count": 1,
     "metadata": {},
     "output_type": "execute_result"
    }
   ],
   "source": [
    "from dotenv import load_dotenv\n",
    "load_dotenv()"
   ]
  },
  {
   "cell_type": "code",
   "execution_count": 2,
   "id": "dfaa96c2",
   "metadata": {},
   "outputs": [],
   "source": [
    "import os\n",
    "SMITHERY_TOKEN = os.getenv(\"SMITHERY_API_KEY\")"
   ]
  },
  {
   "cell_type": "code",
   "execution_count": 3,
   "id": "182aa139",
   "metadata": {},
   "outputs": [],
   "source": [
    "import asyncio\n",
    "import base64\n",
    "from langchain_mcp_adapters.client import MultiServerMCPClient"
   ]
  },
  {
   "cell_type": "code",
   "execution_count": 4,
   "id": "7a04f048",
   "metadata": {},
   "outputs": [],
   "source": [
    "api_key = os.getenv(\"SMITHERY_API_KEY\")  # 또는 직접 문자열 입력\n",
    "server_path = \"@jmanek/google-news-trends-mcp\"\n",
    "config = {}  # 대부분의 경우 빈 config 허용\n",
    "config_b64 = base64.urlsafe_b64encode(str(config).encode()).decode()\n",
    "\n",
    "mcp_url = (\n",
    "    f\"https://server.smithery.ai/{server_path}/mcp\"\n",
    "    f\"?config={config_b64}&api_key={api_key}\"\n",
    ")"
   ]
  },
  {
   "cell_type": "code",
   "execution_count": 5,
   "id": "cd4952c7",
   "metadata": {},
   "outputs": [],
   "source": [
    "from langchain_mcp_adapters.client import MultiServerMCPClient\n",
    "\n",
    "client = MultiServerMCPClient({\n",
    "    \"sequential\": {\n",
    "        \"url\": mcp_url,  # 위에서 구성한 전체 URL\n",
    "        \"transport\": \"streamable_http\"\n",
    "    }\n",
    "}) "
   ]
  },
  {
   "cell_type": "code",
   "execution_count": 6,
   "id": "0a2a1838",
   "metadata": {},
   "outputs": [
    {
     "name": "stdout",
     "output_type": "stream",
     "text": [
      "[🔗 연결 시도] get_tools 실행...\n",
      "[✅ 성공] 도구 목록:\n",
      " - get_news_by_keyword\n",
      " - get_news_by_location\n",
      " - get_news_by_topic\n",
      " - get_top_news\n",
      " - get_trending_terms\n"
     ]
    }
   ],
   "source": [
    "print(\"[🔗 연결 시도] get_tools 실행...\")\n",
    "tools = await client.get_tools()  # 노트북에서는 await 바로 사용\n",
    "print(\"[✅ 성공] 도구 목록:\")\n",
    "for t in tools:\n",
    "    print(\" -\", t.name)"
   ]
  },
  {
   "cell_type": "code",
   "execution_count": 7,
   "id": "dda74dac",
   "metadata": {},
   "outputs": [
    {
     "name": "stdout",
     "output_type": "stream",
     "text": [
      "name='get_top_news' description='\\n    Get top news stories from Google News.\\n    ' args_schema={'properties': {'period': {'default': 3, 'description': 'Number of days to look back for top articles.', 'minimum': 1, 'title': 'Period', 'type': 'integer'}, 'max_results': {'default': 10, 'description': 'Maximum number of results to return.', 'minimum': 1, 'title': 'Max Results', 'type': 'integer'}, 'full_data': {'default': False, 'description': 'Return full data for each article. If False a summary should be created by setting the summarize flag', 'title': 'Full Data', 'type': 'boolean'}, 'summarize': {'default': True, 'description': 'Generate a summary of the article, will first try LLM Sampling but if unavailable will use nlp', 'title': 'Summarize', 'type': 'boolean'}}, 'type': 'object'} response_format='content_and_artifact' coroutine=<function convert_mcp_tool_to_langchain_tool.<locals>.call_tool at 0x00000160294B3240>\n",
      "[⚙ 실행] get_top_news\n"
     ]
    },
    {
     "name": "stderr",
     "output_type": "stream",
     "text": [
      "Traceback (most recent call last):\n",
      "  File \"c:\\git_repo\\GJ_class\\uv_work\\.venv\\Lib\\site-packages\\anyio\\streams\\memory.py\", line 111, in receive\n",
      "    return self.receive_nowait()\n",
      "           ^^^^^^^^^^^^^^^^^^^^^\n",
      "  File \"c:\\git_repo\\GJ_class\\uv_work\\.venv\\Lib\\site-packages\\anyio\\streams\\memory.py\", line 106, in receive_nowait\n",
      "    raise WouldBlock\n",
      "anyio.WouldBlock\n",
      "\n",
      "During handling of the above exception, another exception occurred:\n",
      "\n",
      "Traceback (most recent call last):\n",
      "  File \"c:\\git_repo\\GJ_class\\uv_work\\.venv\\Lib\\site-packages\\mcp\\client\\streamable_http.py\", line 498, in streamablehttp_client\n",
      "    yield (\n",
      "  File \"c:\\git_repo\\GJ_class\\uv_work\\.venv\\Lib\\site-packages\\langchain_mcp_adapters\\sessions.py\", line 229, in _create_streamable_http_session\n",
      "    async with ClientSession(read, write, **(session_kwargs or {})) as session:\n",
      "  File \"c:\\git_repo\\GJ_class\\uv_work\\.venv\\Lib\\site-packages\\anyio\\_backends\\_asyncio.py\", line 819, in __aexit__\n",
      "    raise exc_val\n",
      "  File \"c:\\git_repo\\GJ_class\\uv_work\\.venv\\Lib\\site-packages\\langchain_mcp_adapters\\sessions.py\", line 230, in _create_streamable_http_session\n",
      "    yield session\n",
      "  File \"c:\\git_repo\\GJ_class\\uv_work\\.venv\\Lib\\site-packages\\langchain_mcp_adapters\\sessions.py\", line 304, in create_session\n",
      "    yield session\n",
      "  File \"c:\\git_repo\\GJ_class\\uv_work\\.venv\\Lib\\site-packages\\langchain_mcp_adapters\\tools.py\", line 99, in call_tool\n",
      "    await tool_session.initialize()\n",
      "  File \"c:\\git_repo\\GJ_class\\uv_work\\.venv\\Lib\\site-packages\\mcp\\client\\session.py\", line 151, in initialize\n",
      "    result = await self.send_request(\n",
      "             ^^^^^^^^^^^^^^^^^^^^^^^^\n",
      "  File \"c:\\git_repo\\GJ_class\\uv_work\\.venv\\Lib\\site-packages\\mcp\\shared\\session.py\", line 272, in send_request\n",
      "    response_or_error = await response_stream_reader.receive()\n",
      "                        ^^^^^^^^^^^^^^^^^^^^^^^^^^^^^^^^^^^^^^\n",
      "  File \"c:\\git_repo\\GJ_class\\uv_work\\.venv\\Lib\\site-packages\\anyio\\streams\\memory.py\", line 119, in receive\n",
      "    await receive_event.wait()\n",
      "  File \"C:\\Users\\USER\\miniconda3\\envs\\GJ_class\\Lib\\asyncio\\locks.py\", line 213, in wait\n",
      "    await fut\n",
      "asyncio.exceptions.CancelledError: Cancelled by cancel scope 16029599ad0\n",
      "\n",
      "During handling of the above exception, another exception occurred:\n",
      "\n",
      "  + Exception Group Traceback (most recent call last):\n",
      "  |   File \"c:\\git_repo\\GJ_class\\uv_work\\.venv\\Lib\\site-packages\\IPython\\core\\interactiveshell.py\", line 3575, in run_code\n",
      "  |     await eval(code_obj, self.user_global_ns, self.user_ns)\n",
      "  |   File \"C:\\Users\\USER\\AppData\\Local\\Temp\\ipykernel_17780\\1208608392.py\", line 5, in <module>\n",
      "  |     result = await top_news_tool.ainvoke({\n",
      "  |              ^^^^^^^^^^^^^^^^^^^^^^^^^^^^^\n",
      "  |   File \"c:\\git_repo\\GJ_class\\uv_work\\.venv\\Lib\\site-packages\\langchain_core\\tools\\structured.py\", line 66, in ainvoke\n",
      "  |     return await super().ainvoke(input, config, **kwargs)\n",
      "  |            ^^^^^^^^^^^^^^^^^^^^^^^^^^^^^^^^^^^^^^^^^^^^^^\n",
      "  |   File \"c:\\git_repo\\GJ_class\\uv_work\\.venv\\Lib\\site-packages\\langchain_core\\tools\\base.py\", line 523, in ainvoke\n",
      "  |     return await self.arun(tool_input, **kwargs)\n",
      "  |            ^^^^^^^^^^^^^^^^^^^^^^^^^^^^^^^^^^^^^\n",
      "  |   File \"c:\\git_repo\\GJ_class\\uv_work\\.venv\\Lib\\site-packages\\langchain_core\\tools\\base.py\", line 887, in arun\n",
      "  |     raise error_to_raise\n",
      "  |   File \"c:\\git_repo\\GJ_class\\uv_work\\.venv\\Lib\\site-packages\\langchain_core\\tools\\base.py\", line 856, in arun\n",
      "  |     response = await coro_with_context(coro, context)\n",
      "  |                ^^^^^^^^^^^^^^^^^^^^^^^^^^^^^^^^^^^^^^\n",
      "  |   File \"c:\\git_repo\\GJ_class\\uv_work\\.venv\\Lib\\site-packages\\langchain_core\\tools\\structured.py\", line 110, in _arun\n",
      "  |     return await self.coroutine(*args, **kwargs)\n",
      "  |            ^^^^^^^^^^^^^^^^^^^^^^^^^^^^^^^^^^^^^\n",
      "  |   File \"c:\\git_repo\\GJ_class\\uv_work\\.venv\\Lib\\site-packages\\langchain_mcp_adapters\\tools.py\", line 98, in call_tool\n",
      "  |     async with create_session(connection) as tool_session:\n",
      "  |   File \"C:\\Users\\USER\\miniconda3\\envs\\GJ_class\\Lib\\contextlib.py\", line 231, in __aexit__\n",
      "  |     await self.gen.athrow(typ, value, traceback)\n",
      "  |   File \"c:\\git_repo\\GJ_class\\uv_work\\.venv\\Lib\\site-packages\\langchain_mcp_adapters\\sessions.py\", line 294, in create_session\n",
      "  |     async with _create_streamable_http_session(\n",
      "  |   File \"C:\\Users\\USER\\miniconda3\\envs\\GJ_class\\Lib\\contextlib.py\", line 231, in __aexit__\n",
      "  |     await self.gen.athrow(typ, value, traceback)\n",
      "  |   File \"c:\\git_repo\\GJ_class\\uv_work\\.venv\\Lib\\site-packages\\langchain_mcp_adapters\\sessions.py\", line 226, in _create_streamable_http_session\n",
      "  |     async with streamablehttp_client(\n",
      "  |   File \"C:\\Users\\USER\\miniconda3\\envs\\GJ_class\\Lib\\contextlib.py\", line 231, in __aexit__\n",
      "  |     await self.gen.athrow(typ, value, traceback)\n",
      "  |   File \"c:\\git_repo\\GJ_class\\uv_work\\.venv\\Lib\\site-packages\\mcp\\client\\streamable_http.py\", line 474, in streamablehttp_client\n",
      "  |     async with anyio.create_task_group() as tg:\n",
      "  |   File \"c:\\git_repo\\GJ_class\\uv_work\\.venv\\Lib\\site-packages\\anyio\\_backends\\_asyncio.py\", line 815, in __aexit__\n",
      "  |     raise BaseExceptionGroup(\n",
      "  | ExceptionGroup: unhandled errors in a TaskGroup (1 sub-exception)\n",
      "  +-+---------------- 1 ----------------\n",
      "    | Traceback (most recent call last):\n",
      "    |   File \"c:\\git_repo\\GJ_class\\uv_work\\.venv\\Lib\\site-packages\\mcp\\client\\streamable_http.py\", line 405, in handle_request_async\n",
      "    |     await self._handle_post_request(ctx)\n",
      "    |   File \"c:\\git_repo\\GJ_class\\uv_work\\.venv\\Lib\\site-packages\\mcp\\client\\streamable_http.py\", line 277, in _handle_post_request\n",
      "    |     response.raise_for_status()\n",
      "    |   File \"c:\\git_repo\\GJ_class\\uv_work\\.venv\\Lib\\site-packages\\httpx\\_models.py\", line 763, in raise_for_status\n",
      "    |     raise HTTPStatusError(message, request=request, response=self)\n",
      "    | httpx.HTTPStatusError: Server error '504 Gateway Timeout' for url 'https://server.smithery.ai/@jmanek/google-news-trends-mcp/mcp?config=e30=&api_key=35a855c7-9287-4cb7-bc0c-46ba7c363a57'\n",
      "    | For more information check: https://developer.mozilla.org/en-US/docs/Web/HTTP/Status/504\n",
      "    +------------------------------------\n"
     ]
    }
   ],
   "source": [
    "top_news_tool = next((t for t in tools if t.name == \"get_top_news\"), None)\n",
    "print(top_news_tool)\n",
    "if top_news_tool:\n",
    "    print(\"[⚙ 실행] get_top_news\")\n",
    "    result = await top_news_tool.ainvoke({\n",
    "        \"max_results\": 5,\n",
    "        \"period\": 3,\n",
    "        \"full_data\": True,\n",
    "        \"summarize\": False\n",
    "    })\n",
    "    print(result)\n",
    "else:\n",
    "    print(\"❌ get_top_news 도구를 찾지 못했습니다.\")\n"
   ]
  },
  {
   "cell_type": "code",
   "execution_count": null,
   "id": "cb78c6f2",
   "metadata": {},
   "outputs": [],
   "source": []
  }
 ],
 "metadata": {
  "kernelspec": {
   "display_name": "uv-work",
   "language": "python",
   "name": "python3"
  },
  "language_info": {
   "codemirror_mode": {
    "name": "ipython",
    "version": 3
   },
   "file_extension": ".py",
   "mimetype": "text/x-python",
   "name": "python",
   "nbconvert_exporter": "python",
   "pygments_lexer": "ipython3",
   "version": "3.11.9"
  }
 },
 "nbformat": 4,
 "nbformat_minor": 5
}
