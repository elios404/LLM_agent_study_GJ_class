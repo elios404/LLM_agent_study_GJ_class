{
 "cells": [
  {
   "cell_type": "code",
   "execution_count": 12,
   "id": "8980cd96",
   "metadata": {},
   "outputs": [
    {
     "data": {
      "text/plain": [
       "True"
      ]
     },
     "execution_count": 12,
     "metadata": {},
     "output_type": "execute_result"
    }
   ],
   "source": [
    "from dotenv import load_dotenv\n",
    "load_dotenv()"
   ]
  },
  {
   "cell_type": "code",
   "execution_count": 13,
   "id": "df6af520",
   "metadata": {},
   "outputs": [],
   "source": [
    "from langchain_community.document_loaders import PyPDFLoader\n",
    "\n",
    "pdf_loader = PyPDFLoader('./data/proposal.pdf') #  data 폴더 안에 들어있습니다.\n",
    "pdf_docs = pdf_loader.load()\n"
   ]
  },
  {
   "cell_type": "code",
   "execution_count": 14,
   "id": "d1cd9e99",
   "metadata": {},
   "outputs": [],
   "source": [
    "from langchain_text_splitters import RecursiveCharacterTextSplitter\n",
    "\n",
    "text_splitter = RecursiveCharacterTextSplitter(\n",
    "    chunk_size = 1000,\n",
    "    chunk_overlap = 200, # 문맥을 살리기 위해서 겹치는 부분 크기\n",
    "    length_function = len, # 글자 수를 기준 -> 이걸 왜씀? 청크 사이즈 1000이 글자수 1000이 되도록 한다.\n",
    "    separators = [\"\\n\\n\", \"\\n\", \" \", \"\"], # 여러 기준으로 청크 나누기가 가능, 앞에 나오는 것 우선 -> 이게 RecursiveCharacterTextSplitter의 핵심 기능\n",
    ")\n",
    "texts = text_splitter.split_documents(pdf_docs)"
   ]
  },
  {
   "cell_type": "code",
   "execution_count": 15,
   "id": "b02d39f6",
   "metadata": {},
   "outputs": [
    {
     "data": {
      "text/plain": [
       "OpenAIEmbeddings(client=<openai.resources.embeddings.Embeddings object at 0x0000023457CA1850>, async_client=<openai.resources.embeddings.AsyncEmbeddings object at 0x000002345C194250>, model='text-embedding-3-large', dimensions=None, deployment='text-embedding-ada-002', openai_api_version=None, openai_api_base=None, openai_api_type=None, openai_proxy=None, embedding_ctx_length=8191, openai_api_key=SecretStr('**********'), openai_organization=None, allowed_special=None, disallowed_special=None, chunk_size=1000, max_retries=2, request_timeout=None, headers=None, tiktoken_enabled=True, tiktoken_model_name=None, show_progress_bar=False, model_kwargs={}, skip_empty=False, default_headers=None, default_query=None, retry_min_seconds=4, retry_max_seconds=20, http_client=None, http_async_client=None, check_embedding_ctx_length=True)"
      ]
     },
     "execution_count": 15,
     "metadata": {},
     "output_type": "execute_result"
    }
   ],
   "source": [
    "from langchain_openai import OpenAIEmbeddings\n",
    "\n",
    "embeddings_model = OpenAIEmbeddings(model = \"text-embedding-3-large\")\n",
    "\n",
    "embeddings_model"
   ]
  },
  {
   "cell_type": "code",
   "execution_count": 16,
   "id": "979d9318",
   "metadata": {},
   "outputs": [],
   "source": [
    "from langchain_chroma import Chroma\n",
    "\n",
    "# req_store = Chroma.from_documents(\n",
    "#     documents=texts,\n",
    "#     embedding=embeddings_model,\n",
    "#     collection_name='chroma-req',\n",
    "#     persist_directory='../chroma-req'\n",
    "# )\n",
    "\n",
    "# 데이터 로딩\n",
    "vector_store = Chroma(\n",
    "    collection_name='chroma-req',\n",
    "    embedding_function=embeddings_model,\n",
    "    persist_directory='./chroma-req'\n",
    ")\n",
    "\n",
    "retriever = vector_store.as_retriever(search_kwargs={'k':3})"
   ]
  },
  {
   "cell_type": "code",
   "execution_count": 17,
   "id": "b8e2553f",
   "metadata": {},
   "outputs": [],
   "source": [
    "from typing import List, TypedDict\n",
    "from langchain_core.documents import Document\n",
    "from langgraph.graph import StateGraph\n",
    "\n",
    "class ReqState(TypedDict):\n",
    "    req_actor: List[str]\n",
    "    req_names: List[str]\n",
    "    req_purpose: List[str]\n",
    "    req_importance: List[str]\n",
    "    req_level: List[str]\n",
    "    req_function: List[str]\n",
    "    req_process: List[str]\n",
    "    req_screen: List[str]\n",
    "    req_security: List[str]\n",
    "    req_perform: List[str]\n",
    "    req_data: List[str]\n",
    "\n",
    "    context : List[Document]"
   ]
  },
  {
   "cell_type": "code",
   "execution_count": 18,
   "id": "58cff67a",
   "metadata": {},
   "outputs": [],
   "source": [
    "import pandas as pd \n",
    "def generate_df(state:ReqState) -> ReqState:\n",
    "    df = pd.DataFrame({\n",
    "        \"시스템\": state[\"req_actor\"],\n",
    "        \"요구사항 ID\": [f\"REQ-{str(i).zfill(3)}\" for i in range(1, len(state[\"req_names\"]) + 1)],\n",
    "        \"요구사항명\": state[\"req_names\"],\n",
    "        \"중요도\": state[\"req_importance\"],\n",
    "        \"난이도\": state[\"req_level\"],\n",
    "        \"요청목적\": state[\"req_purpose\"],\n",
    "        \"기능 요구사항\": state[\"req_function\"],\n",
    "        \"프로세스 요구사항\": state[\"req_process\"],\n",
    "        \"화면 요구사항\": state[\"req_screen\"],\n",
    "        \"보안 요구사항\": state[\"req_security\"],\n",
    "        \"성능 및 용량 요구사항\": state[\"req_perform\"],\n",
    "        \"데이터 요구사항\": state[\"req_data\"],\n",
    "    })\n",
    "    \n",
    "    df.to_csv(\"requirements.csv\", index=False, encoding=\"utf-8-sig\")\n",
    "\n",
    "    return state \n",
    "    \n"
   ]
  },
  {
   "cell_type": "code",
   "execution_count": 19,
   "id": "b703087d",
   "metadata": {},
   "outputs": [
    {
     "data": {
      "text/plain": [
       "<langgraph.graph.state.StateGraph at 0x2345c197710>"
      ]
     },
     "execution_count": 19,
     "metadata": {},
     "output_type": "execute_result"
    }
   ],
   "source": [
    "from sj import graph_sj as sj_subgraph\n",
    "from jy import graph_jy as jy_subgraph\n",
    "from mj import graph_mj as mj_subgraph\n",
    "\n",
    "\n",
    "graph_builder = StateGraph(ReqState)\n",
    "\n",
    "graph_builder.add_node(\"jy_agent\", jy_subgraph)\n",
    "graph_builder.add_node(\"mj_agent\", mj_subgraph)\n",
    "graph_builder.add_node('sj_agent', sj_subgraph)\n",
    "graph_builder.add_node('generate_df', generate_df)"
   ]
  },
  {
   "cell_type": "code",
   "execution_count": 20,
   "id": "705f8a5a",
   "metadata": {},
   "outputs": [
    {
     "data": {
      "text/plain": [
       "<langgraph.graph.state.StateGraph at 0x2345c197710>"
      ]
     },
     "execution_count": 20,
     "metadata": {},
     "output_type": "execute_result"
    }
   ],
   "source": [
    "from langgraph.graph import START, END\n",
    "\n",
    "graph_builder.add_edge(START, 'mj_agent')\n",
    "graph_builder.add_edge('mj_agent', 'jy_agent')\n",
    "graph_builder.add_edge('jy_agent', 'sj_agent')\n",
    "graph_builder.add_edge('sj_agent', 'generate_df')\n",
    "graph_builder.add_edge('generate_df', END)"
   ]
  },
  {
   "cell_type": "code",
   "execution_count": 21,
   "id": "8e2e1afb",
   "metadata": {},
   "outputs": [
    {
     "data": {
      "image/png": "[encoded data removed]",
      "text/plain": [
       "<langgraph.graph.state.CompiledStateGraph object at 0x000002345C19E610>"
      ]
     },
     "execution_count": 21,
     "metadata": {},
     "output_type": "execute_result"
    }
   ],
   "source": [
    "graph = graph_builder.compile()\n",
    "graph"
   ]
  },
  {
   "cell_type": "code",
   "execution_count": null,
   "id": "89902e9c",
   "metadata": {},
   "outputs": [
    {
     "name": "stdout",
     "output_type": "stream",
     "text": [
      "['팬 창작자', '일반 팬', '아티스트/소속사', '플랫폼 관리자', '외부 기업/커뮤니티', '저작권자']\n",
      "['팬 창작자', '팬 창작자', '팬 창작자', '팬 창작자', '일반 팬', '일반 팬', '일반 팬', '일반 팬', '아티스트/소속사', '아티스트/소속사', '아티스트/소속사', '아티스트/소속사', '플랫폼 관리자', '플랫폼 관리자', '플랫폼 관리자', '플랫폼 관리자', '외부 기업/커뮤니티', '외부 기업/커뮤니티', '외부 기업/커뮤니티', '외부 기업/커뮤니티', '저작권자', '저작권자', '저작권자', '저작권자']\n",
      "['팬 콘텐츠 등록 및 관리', '활동 증명 뱃지 획득', '보상 풀 분배 참여', '응원 시스템 참여', '콘텐츠 응원 및 랭킹 참여', '활동 증명 뱃지 확인', '보상 내역 확인', '팬 창작자와의 소통', '신곡 홍보 및 이벤트 관리', '팬 창작자 보상 관리', '저작권 관리 및 수익 분배', '팬덤 활성화 전략 수립', '플랫폼 기능 모니터링 및 유지보수', '보상 풀 관리 및 투명성 확보', '사용자 데이터 관리', '시스템 보안 및 안정성 관리', '스폰서십 및 후원금 관리', '팬덤 활성화 프로그램 참여', '브랜드 홍보 및 마케팅', '커뮤니티와의 협력 및 소통', '저작권 수익 분배 관리', '저작권 침해 모니터링', '저작권 관련 법적 지원', '창작자와의 협력 및 소통']\n"
     ]
    }
   ],
   "source": [
    "response = graph.invoke({\"context\" : texts})"
   ]
  }
 ],
 "metadata": {
  "kernelspec": {
   "display_name": "uv-work",
   "language": "python",
   "name": "python3"
  },
  "language_info": {
   "codemirror_mode": {
    "name": "ipython",
    "version": 3
   },
   "file_extension": ".py",
   "mimetype": "text/x-python",
   "name": "python",
   "nbconvert_exporter": "python",
   "pygments_lexer": "ipython3",
   "version": "3.11.9"
  }
 },
 "nbformat": 4,
 "nbformat_minor": 5
}
