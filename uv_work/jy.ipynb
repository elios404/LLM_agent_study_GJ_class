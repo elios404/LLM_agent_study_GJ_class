{
 "cells": [
  {
   "cell_type": "code",
   "execution_count": 1,
   "id": "41bfb6fe",
   "metadata": {},
   "outputs": [
    {
     "data": {
      "text/plain": [
       "True"
      ]
     },
     "execution_count": 1,
     "metadata": {},
     "output_type": "execute_result"
    }
   ],
   "source": [
    "from dotenv import load_dotenv\n",
    "load_dotenv()"
   ]
  },
  {
   "cell_type": "code",
   "execution_count": 2,
   "id": "d4cdf7e1",
   "metadata": {},
   "outputs": [],
   "source": [
    "from typing_extensions import List, TypedDict\n",
    "from langchain_core.documents import Document\n",
    "from langgraph.graph import StateGraph\n",
    "\n",
    "class ReqState(TypedDict):\n",
    "    req_actor: List[str]\n",
    "    req_names: List[str]\n",
    "    req_purpose: List[str]\n",
    "    req_importance: List[str]\n",
    "    req_level: List[str]\n",
    "    req_function: List[str]\n",
    "    req_process: List[str]\n",
    "    req_screen: List[str]\n",
    "    req_security: List[str]\n",
    "    req_perform: List[str]\n",
    "    req_data: List[str]\n"
   ]
  },
  {
   "cell_type": "code",
   "execution_count": null,
   "id": "a969ca5a",
   "metadata": {},
   "outputs": [],
   "source": [
    "from langchain_chroma import Chroma\n",
    "from langchain_openai import OpenAIEmbeddings\n",
    "\n",
    "embedding = OpenAIEmbeddings(model='text-embedding-3-large')\n",
    "vector_store = Chroma(\n",
    "    collection_name='req-tax',\n",
    "    embedding_function=embedding,\n",
    "    persist_directory='../req-tax'\n",
    ")\n",
    "\n",
    "retriever = vector_store.as_retriever(search_kwargs={'k':3})"
   ]
  },
  {
   "cell_type": "code",
   "execution_count": 4,
   "id": "5bfc8711",
   "metadata": {},
   "outputs": [],
   "source": [
    "from langchain_openai import ChatOpenAI\n",
    "llm = ChatOpenAI(model='gpt-4o')"
   ]
  },
  {
   "cell_type": "code",
   "execution_count": null,
   "id": "d82a1c87",
   "metadata": {},
   "outputs": [],
   "source": [
    "from langchain_core.prompts import PromptTemplate\n",
    "\n",
    "req_level_prompt = PromptTemplate.from_template(\n",
    "    \"\"\"당신은 it기업에서 10년째 에이스 촉방받는 기획자입니다 주어진 Information을 가지고 \n",
    "    요구사항 기능명에 맞는 난이도를 평가해주세요.\n",
    "    출력은 반드시 [상, 중, 하]중 하나를 선택해서 출력해주세요.\n",
    "\n",
    "    Information:\n",
    "    {req_info}\n",
    "    {name}\n",
    "    {purpose}\"\"\"\n",
    "    )\n",
    "    \n",
    "req_level_chain = req_level_prompt | llm   \n",
    "def generate_req_level(state: ReqState) -> ReqState:\n",
    "    \"\"\" \n",
    "    주어진 state를 기반으로 난이도를 평가합니다.\n",
    "    \n",
    "    Args:\n",
    "        state (ReqState): req_actor, req_purpose, req_names를 참고합니다.\n",
    "        \n",
    "    Returns:\n",
    "        ReqState: 기능 난이도를 추가한 state를 반환합니다.\n",
    "    \"\"\"\n",
    "    results = []\n",
    "    req_names = state[\"req_names\"]\n",
    "    req_purpose = state[\"req_purpose\"]\n",
    "    for name, purpose in zip(req_names, req_purpose):\n",
    "        req_info = retriever.invoke(name)\n",
    "        result = req_level_chain.invoke({'req_info' : req_info, 'name' : name, 'purpose' : purpose })\n",
    "        results.append(result)\n",
    "    return {'req_level': results}"
   ]
  },
  {
   "cell_type": "code",
   "execution_count": null,
   "id": "68681093",
   "metadata": {},
   "outputs": [],
   "source": [
    "from langchain_core.prompts import PromptTemplate\n",
    "\n",
    "req_importance_prompt = PromptTemplate.from_template(\n",
    "    \"\"\"당신은 it기업에서 10년째 에이스 촉방받는 기획자입니다 주어진 Information을 가지고 \n",
    "    요구사항 기능명에 맞는 중요도를 평가해주세요.\n",
    "    출력은 반드시 [상, 중, 하]중 하나를 선택해서 출력해주세요.\n",
    "\n",
    "    Information:\n",
    "    {req_info}\n",
    "    {name}\n",
    "    {purpose}\"\"\"\n",
    "    )\n",
    "    \n",
    "req_importance_chain = req_importance_prompt | llm   \n",
    "def generate_req_importance(state: ReqState) -> ReqState:\n",
    "    \"\"\" \n",
    "    주어진 state를 기반으로 중요도를 평가합니다.\n",
    "    \n",
    "    Args:\n",
    "        state (ReqState): req_actor, req_purpose, req_names를 참고합니다.\n",
    "        \n",
    "    Returns:\n",
    "        ReqState: 기능 중요도 추가한 state를 반환합니다.\n",
    "    \"\"\"\n",
    "    results = []\n",
    "    req_names = state[\"req_names\"]\n",
    "    req_purpose = state[\"req_purpose\"]\n",
    "    for name, purpose in zip(req_names, req_purpose):\n",
    "        req_info = retriever.invoke(name)\n",
    "        result = req_importance_chain.invoke({'req_info' : req_info, 'name' : name, 'purpose' : purpose })\n",
    "        results.append(result)\n",
    "    return {'req_importance': results}"
   ]
  },
  {
   "cell_type": "code",
   "execution_count": null,
   "id": "73bb1898",
   "metadata": {},
   "outputs": [],
   "source": [
    "from langchain_core.prompts import PromptTemplate\n",
    "\n",
    "req_function_prompt = PromptTemplate.from_template(\n",
    "    \"\"\"당신은 it기업에서 10년째 에이스 촉방받는 기획자입니다 주어진 Information을 가지고 \n",
    "    기능 요구상을 작성해주세요. 요구사항을 작성할 때는 10줄 이하로 간결하게 하지만 개발에 필요한 기능은\n",
    "    다 담을 수 있게 작성하세요.\n",
    "\n",
    "    Information:\n",
    "    {req_info}\n",
    "    {name}\n",
    "    {purpose}\"\"\"\n",
    "    )\n",
    "    \n",
    "req_function_chain = req_function_prompt | llm   \n",
    "def generate_req_function(state: ReqState) -> ReqState:\n",
    "    \"\"\" \n",
    "    주어진 state를 기반으로 기능 요구사항을 정의합니다.\n",
    "    \n",
    "    Args:\n",
    "        state (ReqState): req_actor, req_purpose, req_names를 참고합니다.\n",
    "        \n",
    "    Returns:\n",
    "        ReqState: 기능 요구사항을 추가한 state를 반환합니다.\n",
    "    \"\"\"\n",
    "    results = []\n",
    "    req_names = state[\"req_names\"]\n",
    "    req_purpose = state[\"req_purpose\"]\n",
    "    for name, purpose in zip(req_names, req_purpose):\n",
    "        req_info = retriever.invoke(name)\n",
    "        result = req_function_chain.invoke({'req_info' : req_info, 'name' : name, 'purpose' : purpose })\n",
    "        results.append(result)\n",
    "    return {'req_function': results}"
   ]
  },
  {
   "cell_type": "code",
   "execution_count": null,
   "id": "7f83688a",
   "metadata": {},
   "outputs": [],
   "source": [
    "from langchain_core.prompts import PromptTemplate\n",
    "\n",
    "req_process_prompt = PromptTemplate.from_template(\n",
    "    \"\"\"당신은 it기업에서 10년째 에이스 촉방받는 기획자입니다 주어진 Information을 가지고 \n",
    "    요구사항에 맞는 프로세스 요구사항을 작성해 주세요. 프로세스를 작성할 때는 요구사항을 반영한 \n",
    "    순서의 흐름을 작성하세요\n",
    "    ex) function = \t(\n",
    "    - 사용자는 '지갑 연결하기' 버튼을 통해 MetaMask 등 웹3 지갑을 연결할 수 있다. \n",
    "    - 지갑이 연결되면, 플랫폼은 사용자에게 고유한 메시지에 서명을 요청하여 소유권을 확인한다. \n",
    "    - 서명이 성공적으로 검증되면, 서버는 세션(Session) 또는 JWT(JSON Web Token)를 생성하여 로그인 상태를 유지한다.\n",
    "    - 로그인된 사용자는 자신의 지갑 주소(단축 형태)와 프로필 이미지를 확인할 수 있다. \n",
    "    - 사용자는 '로그아웃' 버튼을 통해 언제든지 세션을 종료하고 연결을 해제할 수 있다. \n",
    "    - 브라우저 재접속 시, 유효한 세션이 있다면 자동으로 로그인 상태가 유지되어야 한다. )\n",
    "\n",
    "    process = (\n",
    "    1. (사용자) 헤더의 '지갑 연결하기' 버튼 클릭\n",
    "    2. (시스템) 브라우저에 설치된 MetaMask 확장 프로그램 팝업 자동 실행\n",
    "    3. (사용자) MetaMask에서 연결할 계정 선택 후 '연결' 승인\n",
    "    4. (시스템) 지갑 주소 정보 수신 후, 백엔드에서 생성된 인증용 메시지 서명 요청\n",
    "    5. (사용자) MetaMask에서 '서명' 버튼 클릭\n",
    "    6. (시스템) 백엔드에서 서명 값 검증 후 유효하면 세션 생성 및 로그인 처리\n",
    "    7. (시스템) 헤더 영역이 '로그인' 상태로 변경 (지갑 주소, 로그아웃 버튼 표시)\n",
    "    )\n",
    "\n",
    "    Information:\n",
    "    {req_info}\n",
    "    {actor}\n",
    "    {name}\n",
    "    {purpose}\n",
    "    {function}\n",
    "    \"\"\"\n",
    "    )\n",
    "    \n",
    "req_process_chain = req_process_prompt | llm   \n",
    "def generqte_req_process(state: ReqState) -> ReqState:\n",
    "    \"\"\" \n",
    "    주어진 state를 기반으로 기능 요구사항을 정의합니다.\n",
    "    \n",
    "    Args:\n",
    "        state (ReqState): req_actor, req_purpose, req_names를 참고합니다.\n",
    "        \n",
    "    Returns:\n",
    "        ReqState: 기능 요구사항을 추가한 state를 반환합니다.\n",
    "    \"\"\"\n",
    "    results = []\n",
    "    req_names = state[\"req_names\"]\n",
    "    req_purpose = state[\"req_purpose\"]\n",
    "    req_function = state[\"req_function\"]\n",
    "    req_actor = state[\"req_actor\"]\n",
    "    for actor, name, purpose, function  in zip(req_actor, req_names, req_purpose, req_function):\n",
    "        req_info = retriever.invoke(name)\n",
    "        result = req_process_chain.invoke({'req_info' : req_info, 'actor' : actor, 'name' : name, 'purpose' : purpose, 'function' : function , })\n",
    "        results.append(result)\n",
    "    return {'req_process': results}"
   ]
  },
  {
   "cell_type": "code",
   "execution_count": 9,
   "id": "a1de77d6",
   "metadata": {},
   "outputs": [],
   "source": [
    "from langgraph.graph import StateGraph\n",
    "graph_builder = StateGraph(ReqState)\n"
   ]
  },
  {
   "cell_type": "code",
   "execution_count": 10,
   "id": "a8ce07ba",
   "metadata": {},
   "outputs": [
    {
     "data": {
      "text/plain": [
       "<langgraph.graph.state.StateGraph at 0x1f51423f310>"
      ]
     },
     "execution_count": 10,
     "metadata": {},
     "output_type": "execute_result"
    }
   ],
   "source": [
    "graph_builder.add_node('generate_req_level', generate_req_level)\n",
    "graph_builder.add_node('generate_req_importance', generate_req_importance)\n",
    "graph_builder.add_node('generate_req_function', generate_req_function)\n",
    "graph_builder.add_node('generqte_req_process', generqte_req_process)\n"
   ]
  },
  {
   "cell_type": "code",
   "execution_count": 11,
   "id": "9b86a1ef",
   "metadata": {},
   "outputs": [
    {
     "data": {
      "text/plain": [
       "<langgraph.graph.state.StateGraph at 0x1f51423f310>"
      ]
     },
     "execution_count": 11,
     "metadata": {},
     "output_type": "execute_result"
    }
   ],
   "source": [
    "from langgraph.graph import START, END\n",
    "\n",
    "graph_builder.add_edge(START, 'generate_req_level')\n",
    "graph_builder.add_edge(START, 'generate_req_importance')\n",
    "graph_builder.add_edge(START, 'generate_req_function')\n",
    "graph_builder.add_edge('generate_req_level', 'generqte_req_process')\n",
    "graph_builder.add_edge('generate_req_importance', 'generqte_req_process')\n",
    "graph_builder.add_edge('generate_req_function', 'generqte_req_process')\n",
    "graph_builder.add_edge('generqte_req_process', END)"
   ]
  },
  {
   "cell_type": "code",
   "execution_count": 12,
   "id": "745a0ff7",
   "metadata": {},
   "outputs": [
    {
     "data": {
      "image/png": "[encoded data removed]",
      "text/plain": [
       "<langgraph.graph.state.CompiledStateGraph object at 0x000001F514267750>"
      ]
     },
     "execution_count": 12,
     "metadata": {},
     "output_type": "execute_result"
    }
   ],
   "source": [
    "graph_jy= graph_builder.compile()\n",
    "graph_jy"
   ]
  }
 ],
 "metadata": {
  "kernelspec": {
   "display_name": "uv-work (3.11.9)",
   "language": "python",
   "name": "python3"
  },
  "language_info": {
   "codemirror_mode": {
    "name": "ipython",
    "version": 3
   },
   "file_extension": ".py",
   "mimetype": "text/x-python",
   "name": "python",
   "nbconvert_exporter": "python",
   "pygments_lexer": "ipython3",
   "version": "3.11.9"
  }
 },
 "nbformat": 4,
 "nbformat_minor": 5
}
